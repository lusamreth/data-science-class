{
  "cells": [
    {
      "cell_type": "markdown",
      "metadata": {
        "id": "view-in-github",
        "colab_type": "text"
      },
      "source": [
        "<a href=\"https://colab.research.google.com/github/lusamreth/data-science-class/blob/main/Activity_Build_a_K_means_model.ipynb\" target=\"_parent\"><img src=\"https://colab.research.google.com/assets/colab-badge.svg\" alt=\"Open In Colab\"/></a>"
      ]
    },
    {
      "cell_type": "markdown",
      "id": "d84fb10e",
      "metadata": {
        "id": "d84fb10e"
      },
      "source": [
        "# Activity: Build a K-means model\n",
        "\n",
        "## **Introduction**\n",
        "\n",
        "K-means clustering is very effective when segmenting data and attempting to find patterns. Because clustering is used in a broad array of industries, becoming proficient in this process will help you expand your skillset in a widely applicable way.   \n",
        "\n",
        "In this activity, you are a consultant for a scientific organization that works to support and sustain penguin colonies. You are tasked with helping other staff members learn more about penguins in order to achieve this mission.\n",
        "\n",
        "The data for this activity is in a spreadsheet that includes datapoints across a sample size of 345 penguins, such as species, island, and sex. Your will use a K-means clustering model to group this data and identify patterns that provide important insights about penguins.\n",
        "\n",
        "**Note:** Because this lab uses a real dataset, this notebook will first require basic EDA, data cleaning, and other manipulations to prepare the data for modeling."
      ]
    },
    {
      "cell_type": "markdown",
      "id": "636df324",
      "metadata": {
        "id": "636df324"
      },
      "source": [
        "## **Step 1: Imports**\n"
      ]
    },
    {
      "cell_type": "markdown",
      "id": "e819deaf",
      "metadata": {
        "id": "e819deaf"
      },
      "source": [
        "Import statements including `K-means`, `silhouette_score`, and `StandardScaler`."
      ]
    },
    {
      "cell_type": "code",
      "execution_count": 8,
      "id": "246d3d33",
      "metadata": {
        "id": "246d3d33"
      },
      "outputs": [],
      "source": [
        "# Import standard operational packages.\n",
        "from sklearn.preprocessing import StandardScaler\n",
        "\n",
        "# Important tools for modeling and evaluation.\n",
        "from sklearn.metrics import silhouette_score\n",
        "# Import visualization packages.\n",
        "from sklearn.cluster import KMeans\n",
        "import pandas as pd\n",
        "import seaborn as sns\n",
        "\n",
        "### YOUR CODE HERE ###"
      ]
    },
    {
      "cell_type": "markdown",
      "id": "adea7b70",
      "metadata": {
        "id": "adea7b70"
      },
      "source": [
        "`Pandas` is used to load the penguins dataset, which is built into the `seaborn` library. The resulting `pandas` DataFrame is saved in a variable named `penguins`. As shown in this cell, the dataset has been automatically loaded in for you. You do not need to download the .csv file, or provide more code, in order to access the dataset and proceed with this lab. Please continue with this activity by completing the following instructions."
      ]
    },
    {
      "cell_type": "code",
      "execution_count": 9,
      "id": "1578f838",
      "metadata": {
        "id": "1578f838"
      },
      "outputs": [],
      "source": [
        "# RUN THIS CELL TO IMPORT YOUR DATA.\n",
        "\n",
        "# Save the `pandas` DataFrame in variable `penguins`.\n",
        "\n",
        "### YOUR CODE HERE ###\n",
        "\n",
        "penguins = sns.load_dataset(\"penguins\")"
      ]
    },
    {
      "cell_type": "markdown",
      "id": "b46934b5",
      "metadata": {
        "id": "b46934b5"
      },
      "source": [
        "<details>\n",
        "  <summary><h4><strong>Hint 1</strong></h4></summary>\n",
        "\n",
        "Use the `load_dataset` function.\n",
        "\n",
        "</details>"
      ]
    },
    {
      "cell_type": "markdown",
      "id": "305ad97b",
      "metadata": {
        "id": "305ad97b"
      },
      "source": [
        "<details>\n",
        "  <summary><h4><strong>Hint 2</strong></h4></summary>\n",
        "\n",
        "The function is from seaborn (`sns`). It should be passed in the dataset name `'penguins'` as a string.\n",
        "\n",
        "</details>"
      ]
    },
    {
      "cell_type": "markdown",
      "id": "6c1688b8",
      "metadata": {
        "id": "6c1688b8"
      },
      "source": [
        "Now, review the first 10 rows of data.\n"
      ]
    },
    {
      "cell_type": "code",
      "execution_count": 10,
      "id": "4e319e9d",
      "metadata": {
        "id": "4e319e9d",
        "colab": {
          "base_uri": "https://localhost:8080/",
          "height": 363
        },
        "outputId": "38c63a53-cb38-4247-f059-ec20df0738d0"
      },
      "outputs": [
        {
          "output_type": "execute_result",
          "data": {
            "text/plain": [
              "  species     island  bill_length_mm  bill_depth_mm  flipper_length_mm  \\\n",
              "0  Adelie  Torgersen            39.1           18.7              181.0   \n",
              "1  Adelie  Torgersen            39.5           17.4              186.0   \n",
              "2  Adelie  Torgersen            40.3           18.0              195.0   \n",
              "3  Adelie  Torgersen             NaN            NaN                NaN   \n",
              "4  Adelie  Torgersen            36.7           19.3              193.0   \n",
              "5  Adelie  Torgersen            39.3           20.6              190.0   \n",
              "6  Adelie  Torgersen            38.9           17.8              181.0   \n",
              "7  Adelie  Torgersen            39.2           19.6              195.0   \n",
              "8  Adelie  Torgersen            34.1           18.1              193.0   \n",
              "9  Adelie  Torgersen            42.0           20.2              190.0   \n",
              "\n",
              "   body_mass_g     sex  \n",
              "0       3750.0    Male  \n",
              "1       3800.0  Female  \n",
              "2       3250.0  Female  \n",
              "3          NaN     NaN  \n",
              "4       3450.0  Female  \n",
              "5       3650.0    Male  \n",
              "6       3625.0  Female  \n",
              "7       4675.0    Male  \n",
              "8       3475.0     NaN  \n",
              "9       4250.0     NaN  "
            ],
            "text/html": [
              "\n",
              "  <div id=\"df-2c33305c-02ec-4486-a21b-e1e3e0bd9a2a\" class=\"colab-df-container\">\n",
              "    <div>\n",
              "<style scoped>\n",
              "    .dataframe tbody tr th:only-of-type {\n",
              "        vertical-align: middle;\n",
              "    }\n",
              "\n",
              "    .dataframe tbody tr th {\n",
              "        vertical-align: top;\n",
              "    }\n",
              "\n",
              "    .dataframe thead th {\n",
              "        text-align: right;\n",
              "    }\n",
              "</style>\n",
              "<table border=\"1\" class=\"dataframe\">\n",
              "  <thead>\n",
              "    <tr style=\"text-align: right;\">\n",
              "      <th></th>\n",
              "      <th>species</th>\n",
              "      <th>island</th>\n",
              "      <th>bill_length_mm</th>\n",
              "      <th>bill_depth_mm</th>\n",
              "      <th>flipper_length_mm</th>\n",
              "      <th>body_mass_g</th>\n",
              "      <th>sex</th>\n",
              "    </tr>\n",
              "  </thead>\n",
              "  <tbody>\n",
              "    <tr>\n",
              "      <th>0</th>\n",
              "      <td>Adelie</td>\n",
              "      <td>Torgersen</td>\n",
              "      <td>39.1</td>\n",
              "      <td>18.7</td>\n",
              "      <td>181.0</td>\n",
              "      <td>3750.0</td>\n",
              "      <td>Male</td>\n",
              "    </tr>\n",
              "    <tr>\n",
              "      <th>1</th>\n",
              "      <td>Adelie</td>\n",
              "      <td>Torgersen</td>\n",
              "      <td>39.5</td>\n",
              "      <td>17.4</td>\n",
              "      <td>186.0</td>\n",
              "      <td>3800.0</td>\n",
              "      <td>Female</td>\n",
              "    </tr>\n",
              "    <tr>\n",
              "      <th>2</th>\n",
              "      <td>Adelie</td>\n",
              "      <td>Torgersen</td>\n",
              "      <td>40.3</td>\n",
              "      <td>18.0</td>\n",
              "      <td>195.0</td>\n",
              "      <td>3250.0</td>\n",
              "      <td>Female</td>\n",
              "    </tr>\n",
              "    <tr>\n",
              "      <th>3</th>\n",
              "      <td>Adelie</td>\n",
              "      <td>Torgersen</td>\n",
              "      <td>NaN</td>\n",
              "      <td>NaN</td>\n",
              "      <td>NaN</td>\n",
              "      <td>NaN</td>\n",
              "      <td>NaN</td>\n",
              "    </tr>\n",
              "    <tr>\n",
              "      <th>4</th>\n",
              "      <td>Adelie</td>\n",
              "      <td>Torgersen</td>\n",
              "      <td>36.7</td>\n",
              "      <td>19.3</td>\n",
              "      <td>193.0</td>\n",
              "      <td>3450.0</td>\n",
              "      <td>Female</td>\n",
              "    </tr>\n",
              "    <tr>\n",
              "      <th>5</th>\n",
              "      <td>Adelie</td>\n",
              "      <td>Torgersen</td>\n",
              "      <td>39.3</td>\n",
              "      <td>20.6</td>\n",
              "      <td>190.0</td>\n",
              "      <td>3650.0</td>\n",
              "      <td>Male</td>\n",
              "    </tr>\n",
              "    <tr>\n",
              "      <th>6</th>\n",
              "      <td>Adelie</td>\n",
              "      <td>Torgersen</td>\n",
              "      <td>38.9</td>\n",
              "      <td>17.8</td>\n",
              "      <td>181.0</td>\n",
              "      <td>3625.0</td>\n",
              "      <td>Female</td>\n",
              "    </tr>\n",
              "    <tr>\n",
              "      <th>7</th>\n",
              "      <td>Adelie</td>\n",
              "      <td>Torgersen</td>\n",
              "      <td>39.2</td>\n",
              "      <td>19.6</td>\n",
              "      <td>195.0</td>\n",
              "      <td>4675.0</td>\n",
              "      <td>Male</td>\n",
              "    </tr>\n",
              "    <tr>\n",
              "      <th>8</th>\n",
              "      <td>Adelie</td>\n",
              "      <td>Torgersen</td>\n",
              "      <td>34.1</td>\n",
              "      <td>18.1</td>\n",
              "      <td>193.0</td>\n",
              "      <td>3475.0</td>\n",
              "      <td>NaN</td>\n",
              "    </tr>\n",
              "    <tr>\n",
              "      <th>9</th>\n",
              "      <td>Adelie</td>\n",
              "      <td>Torgersen</td>\n",
              "      <td>42.0</td>\n",
              "      <td>20.2</td>\n",
              "      <td>190.0</td>\n",
              "      <td>4250.0</td>\n",
              "      <td>NaN</td>\n",
              "    </tr>\n",
              "  </tbody>\n",
              "</table>\n",
              "</div>\n",
              "    <div class=\"colab-df-buttons\">\n",
              "\n",
              "  <div class=\"colab-df-container\">\n",
              "    <button class=\"colab-df-convert\" onclick=\"convertToInteractive('df-2c33305c-02ec-4486-a21b-e1e3e0bd9a2a')\"\n",
              "            title=\"Convert this dataframe to an interactive table.\"\n",
              "            style=\"display:none;\">\n",
              "\n",
              "  <svg xmlns=\"http://www.w3.org/2000/svg\" height=\"24px\" viewBox=\"0 -960 960 960\">\n",
              "    <path d=\"M120-120v-720h720v720H120Zm60-500h600v-160H180v160Zm220 220h160v-160H400v160Zm0 220h160v-160H400v160ZM180-400h160v-160H180v160Zm440 0h160v-160H620v160ZM180-180h160v-160H180v160Zm440 0h160v-160H620v160Z\"/>\n",
              "  </svg>\n",
              "    </button>\n",
              "\n",
              "  <style>\n",
              "    .colab-df-container {\n",
              "      display:flex;\n",
              "      gap: 12px;\n",
              "    }\n",
              "\n",
              "    .colab-df-convert {\n",
              "      background-color: #E8F0FE;\n",
              "      border: none;\n",
              "      border-radius: 50%;\n",
              "      cursor: pointer;\n",
              "      display: none;\n",
              "      fill: #1967D2;\n",
              "      height: 32px;\n",
              "      padding: 0 0 0 0;\n",
              "      width: 32px;\n",
              "    }\n",
              "\n",
              "    .colab-df-convert:hover {\n",
              "      background-color: #E2EBFA;\n",
              "      box-shadow: 0px 1px 2px rgba(60, 64, 67, 0.3), 0px 1px 3px 1px rgba(60, 64, 67, 0.15);\n",
              "      fill: #174EA6;\n",
              "    }\n",
              "\n",
              "    .colab-df-buttons div {\n",
              "      margin-bottom: 4px;\n",
              "    }\n",
              "\n",
              "    [theme=dark] .colab-df-convert {\n",
              "      background-color: #3B4455;\n",
              "      fill: #D2E3FC;\n",
              "    }\n",
              "\n",
              "    [theme=dark] .colab-df-convert:hover {\n",
              "      background-color: #434B5C;\n",
              "      box-shadow: 0px 1px 3px 1px rgba(0, 0, 0, 0.15);\n",
              "      filter: drop-shadow(0px 1px 2px rgba(0, 0, 0, 0.3));\n",
              "      fill: #FFFFFF;\n",
              "    }\n",
              "  </style>\n",
              "\n",
              "    <script>\n",
              "      const buttonEl =\n",
              "        document.querySelector('#df-2c33305c-02ec-4486-a21b-e1e3e0bd9a2a button.colab-df-convert');\n",
              "      buttonEl.style.display =\n",
              "        google.colab.kernel.accessAllowed ? 'block' : 'none';\n",
              "\n",
              "      async function convertToInteractive(key) {\n",
              "        const element = document.querySelector('#df-2c33305c-02ec-4486-a21b-e1e3e0bd9a2a');\n",
              "        const dataTable =\n",
              "          await google.colab.kernel.invokeFunction('convertToInteractive',\n",
              "                                                    [key], {});\n",
              "        if (!dataTable) return;\n",
              "\n",
              "        const docLinkHtml = 'Like what you see? Visit the ' +\n",
              "          '<a target=\"_blank\" href=https://colab.research.google.com/notebooks/data_table.ipynb>data table notebook</a>'\n",
              "          + ' to learn more about interactive tables.';\n",
              "        element.innerHTML = '';\n",
              "        dataTable['output_type'] = 'display_data';\n",
              "        await google.colab.output.renderOutput(dataTable, element);\n",
              "        const docLink = document.createElement('div');\n",
              "        docLink.innerHTML = docLinkHtml;\n",
              "        element.appendChild(docLink);\n",
              "      }\n",
              "    </script>\n",
              "  </div>\n",
              "\n",
              "\n",
              "<div id=\"df-1d00b65e-7ca9-43bb-9ec0-7ee26f74db59\">\n",
              "  <button class=\"colab-df-quickchart\" onclick=\"quickchart('df-1d00b65e-7ca9-43bb-9ec0-7ee26f74db59')\"\n",
              "            title=\"Suggest charts\"\n",
              "            style=\"display:none;\">\n",
              "\n",
              "<svg xmlns=\"http://www.w3.org/2000/svg\" height=\"24px\"viewBox=\"0 0 24 24\"\n",
              "     width=\"24px\">\n",
              "    <g>\n",
              "        <path d=\"M19 3H5c-1.1 0-2 .9-2 2v14c0 1.1.9 2 2 2h14c1.1 0 2-.9 2-2V5c0-1.1-.9-2-2-2zM9 17H7v-7h2v7zm4 0h-2V7h2v10zm4 0h-2v-4h2v4z\"/>\n",
              "    </g>\n",
              "</svg>\n",
              "  </button>\n",
              "\n",
              "<style>\n",
              "  .colab-df-quickchart {\n",
              "      --bg-color: #E8F0FE;\n",
              "      --fill-color: #1967D2;\n",
              "      --hover-bg-color: #E2EBFA;\n",
              "      --hover-fill-color: #174EA6;\n",
              "      --disabled-fill-color: #AAA;\n",
              "      --disabled-bg-color: #DDD;\n",
              "  }\n",
              "\n",
              "  [theme=dark] .colab-df-quickchart {\n",
              "      --bg-color: #3B4455;\n",
              "      --fill-color: #D2E3FC;\n",
              "      --hover-bg-color: #434B5C;\n",
              "      --hover-fill-color: #FFFFFF;\n",
              "      --disabled-bg-color: #3B4455;\n",
              "      --disabled-fill-color: #666;\n",
              "  }\n",
              "\n",
              "  .colab-df-quickchart {\n",
              "    background-color: var(--bg-color);\n",
              "    border: none;\n",
              "    border-radius: 50%;\n",
              "    cursor: pointer;\n",
              "    display: none;\n",
              "    fill: var(--fill-color);\n",
              "    height: 32px;\n",
              "    padding: 0;\n",
              "    width: 32px;\n",
              "  }\n",
              "\n",
              "  .colab-df-quickchart:hover {\n",
              "    background-color: var(--hover-bg-color);\n",
              "    box-shadow: 0 1px 2px rgba(60, 64, 67, 0.3), 0 1px 3px 1px rgba(60, 64, 67, 0.15);\n",
              "    fill: var(--button-hover-fill-color);\n",
              "  }\n",
              "\n",
              "  .colab-df-quickchart-complete:disabled,\n",
              "  .colab-df-quickchart-complete:disabled:hover {\n",
              "    background-color: var(--disabled-bg-color);\n",
              "    fill: var(--disabled-fill-color);\n",
              "    box-shadow: none;\n",
              "  }\n",
              "\n",
              "  .colab-df-spinner {\n",
              "    border: 2px solid var(--fill-color);\n",
              "    border-color: transparent;\n",
              "    border-bottom-color: var(--fill-color);\n",
              "    animation:\n",
              "      spin 1s steps(1) infinite;\n",
              "  }\n",
              "\n",
              "  @keyframes spin {\n",
              "    0% {\n",
              "      border-color: transparent;\n",
              "      border-bottom-color: var(--fill-color);\n",
              "      border-left-color: var(--fill-color);\n",
              "    }\n",
              "    20% {\n",
              "      border-color: transparent;\n",
              "      border-left-color: var(--fill-color);\n",
              "      border-top-color: var(--fill-color);\n",
              "    }\n",
              "    30% {\n",
              "      border-color: transparent;\n",
              "      border-left-color: var(--fill-color);\n",
              "      border-top-color: var(--fill-color);\n",
              "      border-right-color: var(--fill-color);\n",
              "    }\n",
              "    40% {\n",
              "      border-color: transparent;\n",
              "      border-right-color: var(--fill-color);\n",
              "      border-top-color: var(--fill-color);\n",
              "    }\n",
              "    60% {\n",
              "      border-color: transparent;\n",
              "      border-right-color: var(--fill-color);\n",
              "    }\n",
              "    80% {\n",
              "      border-color: transparent;\n",
              "      border-right-color: var(--fill-color);\n",
              "      border-bottom-color: var(--fill-color);\n",
              "    }\n",
              "    90% {\n",
              "      border-color: transparent;\n",
              "      border-bottom-color: var(--fill-color);\n",
              "    }\n",
              "  }\n",
              "</style>\n",
              "\n",
              "  <script>\n",
              "    async function quickchart(key) {\n",
              "      const quickchartButtonEl =\n",
              "        document.querySelector('#' + key + ' button');\n",
              "      quickchartButtonEl.disabled = true;  // To prevent multiple clicks.\n",
              "      quickchartButtonEl.classList.add('colab-df-spinner');\n",
              "      try {\n",
              "        const charts = await google.colab.kernel.invokeFunction(\n",
              "            'suggestCharts', [key], {});\n",
              "      } catch (error) {\n",
              "        console.error('Error during call to suggestCharts:', error);\n",
              "      }\n",
              "      quickchartButtonEl.classList.remove('colab-df-spinner');\n",
              "      quickchartButtonEl.classList.add('colab-df-quickchart-complete');\n",
              "    }\n",
              "    (() => {\n",
              "      let quickchartButtonEl =\n",
              "        document.querySelector('#df-1d00b65e-7ca9-43bb-9ec0-7ee26f74db59 button');\n",
              "      quickchartButtonEl.style.display =\n",
              "        google.colab.kernel.accessAllowed ? 'block' : 'none';\n",
              "    })();\n",
              "  </script>\n",
              "</div>\n",
              "\n",
              "    </div>\n",
              "  </div>\n"
            ],
            "application/vnd.google.colaboratory.intrinsic+json": {
              "type": "dataframe",
              "variable_name": "penguins",
              "summary": "{\n  \"name\": \"penguins\",\n  \"rows\": 344,\n  \"fields\": [\n    {\n      \"column\": \"species\",\n      \"properties\": {\n        \"dtype\": \"category\",\n        \"num_unique_values\": 3,\n        \"samples\": [\n          \"Adelie\",\n          \"Chinstrap\",\n          \"Gentoo\"\n        ],\n        \"semantic_type\": \"\",\n        \"description\": \"\"\n      }\n    },\n    {\n      \"column\": \"island\",\n      \"properties\": {\n        \"dtype\": \"category\",\n        \"num_unique_values\": 3,\n        \"samples\": [\n          \"Torgersen\",\n          \"Biscoe\",\n          \"Dream\"\n        ],\n        \"semantic_type\": \"\",\n        \"description\": \"\"\n      }\n    },\n    {\n      \"column\": \"bill_length_mm\",\n      \"properties\": {\n        \"dtype\": \"number\",\n        \"std\": 5.4595837139265315,\n        \"min\": 32.1,\n        \"max\": 59.6,\n        \"num_unique_values\": 164,\n        \"samples\": [\n          48.2,\n          49.8,\n          45.1\n        ],\n        \"semantic_type\": \"\",\n        \"description\": \"\"\n      }\n    },\n    {\n      \"column\": \"bill_depth_mm\",\n      \"properties\": {\n        \"dtype\": \"number\",\n        \"std\": 1.9747931568167816,\n        \"min\": 13.1,\n        \"max\": 21.5,\n        \"num_unique_values\": 80,\n        \"samples\": [\n          16.9,\n          18.7,\n          18.6\n        ],\n        \"semantic_type\": \"\",\n        \"description\": \"\"\n      }\n    },\n    {\n      \"column\": \"flipper_length_mm\",\n      \"properties\": {\n        \"dtype\": \"number\",\n        \"std\": 14.061713679356888,\n        \"min\": 172.0,\n        \"max\": 231.0,\n        \"num_unique_values\": 55,\n        \"samples\": [\n          201.0,\n          180.0,\n          212.0\n        ],\n        \"semantic_type\": \"\",\n        \"description\": \"\"\n      }\n    },\n    {\n      \"column\": \"body_mass_g\",\n      \"properties\": {\n        \"dtype\": \"number\",\n        \"std\": 801.9545356980956,\n        \"min\": 2700.0,\n        \"max\": 6300.0,\n        \"num_unique_values\": 94,\n        \"samples\": [\n          4350.0,\n          4150.0,\n          3525.0\n        ],\n        \"semantic_type\": \"\",\n        \"description\": \"\"\n      }\n    },\n    {\n      \"column\": \"sex\",\n      \"properties\": {\n        \"dtype\": \"category\",\n        \"num_unique_values\": 2,\n        \"samples\": [\n          \"Female\",\n          \"Male\"\n        ],\n        \"semantic_type\": \"\",\n        \"description\": \"\"\n      }\n    }\n  ]\n}"
            }
          },
          "metadata": {},
          "execution_count": 10
        }
      ],
      "source": [
        "# Review the first 10 rows.\n",
        "\n",
        "### YOUR CODE HERE ###\n",
        "penguins.head(10)"
      ]
    },
    {
      "cell_type": "markdown",
      "id": "d6b9074d",
      "metadata": {
        "id": "d6b9074d"
      },
      "source": [
        "<details>\n",
        "  <summary><h4><strong>Hint 1</strong></h4></summary>\n",
        "\n",
        "Use the `head()` method.\n",
        "\n",
        "</details>"
      ]
    },
    {
      "cell_type": "markdown",
      "id": "15445bc5",
      "metadata": {
        "id": "15445bc5"
      },
      "source": [
        "<details>\n",
        "  <summary><h4><strong>Hint 2</strong></h4></summary>\n",
        "\n",
        "By default, the method only returns five rows. To change this, specify how many rows `(n = )` you want.\n",
        "\n",
        "</details>"
      ]
    },
    {
      "cell_type": "markdown",
      "id": "f2a3e0df",
      "metadata": {
        "id": "f2a3e0df",
        "tags": []
      },
      "source": [
        "## **Step 2: Data exploration**\n",
        "\n",
        "After loading the dataset, the next step is to prepare the data to be suitable for clustering. This includes:\n",
        "\n",
        "*   Exploring data\n",
        "*   Checking for missing values\n",
        "*   Encoding data\n",
        "*   Dropping a column\n",
        "*   Scaling the features using `StandardScaler`"
      ]
    },
    {
      "cell_type": "markdown",
      "id": "2d527961",
      "metadata": {
        "id": "2d527961"
      },
      "source": [
        "### Explore data\n",
        "\n",
        "To cluster penguins of multiple different species, determine how many different types of penguin species are in the dataset."
      ]
    },
    {
      "cell_type": "code",
      "execution_count": 11,
      "id": "89b13b26",
      "metadata": {
        "id": "89b13b26",
        "colab": {
          "base_uri": "https://localhost:8080/"
        },
        "outputId": "14d5ae63-8ce8-4040-d712-cc57f7dbaa3b"
      },
      "outputs": [
        {
          "output_type": "execute_result",
          "data": {
            "text/plain": [
              "array(['Adelie', 'Chinstrap', 'Gentoo'], dtype=object)"
            ]
          },
          "metadata": {},
          "execution_count": 11
        }
      ],
      "source": [
        "# Find out how many penguin types there are.\n",
        "\n",
        "### YOUR CODE HERE ###\n",
        "penguins[\"species\"].unique()"
      ]
    },
    {
      "cell_type": "markdown",
      "id": "d1c43c43",
      "metadata": {
        "id": "d1c43c43"
      },
      "source": [
        "<details>\n",
        "  <summary><h4><strong>Hint 1</strong></h4></summary>\n",
        "\n",
        "Use the `unique()` method.\n",
        "\n",
        "</details>"
      ]
    },
    {
      "cell_type": "markdown",
      "id": "75c73a96",
      "metadata": {
        "id": "75c73a96"
      },
      "source": [
        "<details>\n",
        "  <summary><h4><strong>Hint 2</strong></h4></summary>\n",
        "\n",
        "Use the `unique()` method on the column `'species'`.\n",
        "\n",
        "</details>"
      ]
    },
    {
      "cell_type": "code",
      "execution_count": 19,
      "id": "d861a808",
      "metadata": {
        "id": "d861a808",
        "colab": {
          "base_uri": "https://localhost:8080/"
        },
        "outputId": "d8dcd32d-2370-4984-8a74-558e17037caa"
      },
      "outputs": [
        {
          "output_type": "execute_result",
          "data": {
            "text/plain": [
              "species\n",
              "Adelie       152\n",
              "Gentoo       124\n",
              "Chinstrap     68\n",
              "Name: count, dtype: int64"
            ]
          },
          "metadata": {},
          "execution_count": 19
        }
      ],
      "source": [
        "# Find the count of each species type.\n",
        "### YOUR CODE HERE ###\n",
        "penguins.value_counts(\"species\")\n"
      ]
    },
    {
      "cell_type": "markdown",
      "id": "86ce4356",
      "metadata": {
        "id": "86ce4356"
      },
      "source": [
        "<details>\n",
        "  <summary><h4><strong>Hint 1</strong></h4></summary>\n",
        "\n",
        "Use the `value_counts()` method.\n",
        "\n",
        "</details>"
      ]
    },
    {
      "cell_type": "markdown",
      "id": "9d8880db",
      "metadata": {
        "id": "9d8880db"
      },
      "source": [
        "<details>\n",
        "  <summary><h4><strong>Hint 2</strong></h4></summary>\n",
        "\n",
        "Use the `value_counts()` method on the column `'species'`.\n",
        "\n",
        "</details>"
      ]
    },
    {
      "cell_type": "markdown",
      "id": "f08dfae6",
      "metadata": {
        "id": "f08dfae6"
      },
      "source": [
        "**Question:** How many types of species are present in the dataset?"
      ]
    },
    {
      "cell_type": "markdown",
      "id": "04e2a562",
      "metadata": {
        "id": "04e2a562"
      },
      "source": [
        "[Write your response here. Double-click (or enter) to edit.]"
      ]
    },
    {
      "cell_type": "markdown",
      "id": "f4d208a3",
      "metadata": {
        "id": "f4d208a3"
      },
      "source": [
        "**Question:** Why is it helpful to determine the perfect number of clusters using K-means when you already know how many penguin species the dataset contains?"
      ]
    },
    {
      "cell_type": "markdown",
      "id": "bfdbdc8c",
      "metadata": {
        "id": "bfdbdc8c"
      },
      "source": [
        "[Write your response here. Double-click (or enter) to edit.]"
      ]
    },
    {
      "cell_type": "markdown",
      "id": "e5586304",
      "metadata": {
        "id": "e5586304"
      },
      "source": [
        "### Check for missing values"
      ]
    },
    {
      "cell_type": "markdown",
      "id": "7f0efbd4",
      "metadata": {
        "id": "7f0efbd4"
      },
      "source": [
        "An assumption of K-means is that there are no missing values. Check for missing values in the rows of the data."
      ]
    },
    {
      "cell_type": "code",
      "execution_count": 23,
      "id": "37c7d86f",
      "metadata": {
        "id": "37c7d86f",
        "colab": {
          "base_uri": "https://localhost:8080/"
        },
        "outputId": "f8226725-2c8f-4663-8f23-f3052db15aac"
      },
      "outputs": [
        {
          "output_type": "execute_result",
          "data": {
            "text/plain": [
              "species               0\n",
              "island                0\n",
              "bill_length_mm        2\n",
              "bill_depth_mm         2\n",
              "flipper_length_mm     2\n",
              "body_mass_g           2\n",
              "sex                  11\n",
              "dtype: int64"
            ]
          },
          "metadata": {},
          "execution_count": 23
        }
      ],
      "source": [
        "# Check for missing values.\n",
        "\n",
        "penguins.isna().sum()\n",
        "### YOUR CODE HERE ###"
      ]
    },
    {
      "cell_type": "markdown",
      "id": "07fbc89c",
      "metadata": {
        "id": "07fbc89c"
      },
      "source": [
        "<details>\n",
        "  <summary><h4><strong>Hint 1</strong></h4></summary>\n",
        "\n",
        "Use the `isnull` and `sum` methods.\n",
        "\n",
        "</details>"
      ]
    },
    {
      "cell_type": "markdown",
      "id": "b93232b2",
      "metadata": {
        "id": "b93232b2"
      },
      "source": [
        "Now, drop the rows with missing values and save the resulting pandas DataFrame in a variable named `penguins_subset`."
      ]
    },
    {
      "cell_type": "code",
      "execution_count": 28,
      "id": "885cf8c2",
      "metadata": {
        "id": "885cf8c2"
      },
      "outputs": [],
      "source": [
        "# Drop rows with missing values.\n",
        "# Save DataFrame in variable `penguins_subset`.\n",
        "\n",
        "### YOUR CODE HERE ###\n",
        "\n",
        "penguins_subset = penguins.dropna()\n"
      ]
    },
    {
      "cell_type": "markdown",
      "id": "f719547b",
      "metadata": {
        "id": "f719547b"
      },
      "source": [
        "<details>\n",
        "  <summary><h4><strong>Hint 1</strong></h4></summary>\n",
        "\n",
        "Use `dropna`. Note that an axis parameter passed in to this function should be set to 0 if you want to drop rows containing missing values or 1 if you want to drop columns containing missing values. Optionally, `reset_index` may also be used to avoid a SettingWithCopy warning later in the notebook.\n",
        "</details>"
      ]
    },
    {
      "cell_type": "markdown",
      "id": "519bf1ee",
      "metadata": {
        "id": "519bf1ee"
      },
      "source": [
        "Next, check to make sure that `penguins_subset` does not contain any missing values."
      ]
    },
    {
      "cell_type": "code",
      "execution_count": 30,
      "id": "14dbe623",
      "metadata": {
        "id": "14dbe623",
        "colab": {
          "base_uri": "https://localhost:8080/"
        },
        "outputId": "c86ea081-4318-4051-f27a-331598c196d5"
      },
      "outputs": [
        {
          "output_type": "execute_result",
          "data": {
            "text/plain": [
              "species              0\n",
              "island               0\n",
              "bill_length_mm       0\n",
              "bill_depth_mm        0\n",
              "flipper_length_mm    0\n",
              "body_mass_g          0\n",
              "sex                  0\n",
              "dtype: int64"
            ]
          },
          "metadata": {},
          "execution_count": 30
        }
      ],
      "source": [
        "# Check for missing values.\n",
        "\n",
        "### YOUR CODE HERE ###\n",
        "penguins_subset.isna().sum()"
      ]
    },
    {
      "cell_type": "markdown",
      "id": "910aa899",
      "metadata": {
        "id": "910aa899"
      },
      "source": [
        "Now, review the first 10 rows of the subset."
      ]
    },
    {
      "cell_type": "code",
      "execution_count": 31,
      "id": "5f80460e",
      "metadata": {
        "id": "5f80460e",
        "colab": {
          "base_uri": "https://localhost:8080/",
          "height": 363
        },
        "outputId": "c366da5e-829f-4a98-d40b-6f79b54a8d47"
      },
      "outputs": [
        {
          "output_type": "execute_result",
          "data": {
            "text/plain": [
              "   species     island  bill_length_mm  bill_depth_mm  flipper_length_mm  \\\n",
              "0   Adelie  Torgersen            39.1           18.7              181.0   \n",
              "1   Adelie  Torgersen            39.5           17.4              186.0   \n",
              "2   Adelie  Torgersen            40.3           18.0              195.0   \n",
              "4   Adelie  Torgersen            36.7           19.3              193.0   \n",
              "5   Adelie  Torgersen            39.3           20.6              190.0   \n",
              "6   Adelie  Torgersen            38.9           17.8              181.0   \n",
              "7   Adelie  Torgersen            39.2           19.6              195.0   \n",
              "12  Adelie  Torgersen            41.1           17.6              182.0   \n",
              "13  Adelie  Torgersen            38.6           21.2              191.0   \n",
              "14  Adelie  Torgersen            34.6           21.1              198.0   \n",
              "\n",
              "    body_mass_g     sex  \n",
              "0        3750.0    Male  \n",
              "1        3800.0  Female  \n",
              "2        3250.0  Female  \n",
              "4        3450.0  Female  \n",
              "5        3650.0    Male  \n",
              "6        3625.0  Female  \n",
              "7        4675.0    Male  \n",
              "12       3200.0  Female  \n",
              "13       3800.0    Male  \n",
              "14       4400.0    Male  "
            ],
            "text/html": [
              "\n",
              "  <div id=\"df-dfcf16ce-4bb8-4908-83fc-fccfef48464a\" class=\"colab-df-container\">\n",
              "    <div>\n",
              "<style scoped>\n",
              "    .dataframe tbody tr th:only-of-type {\n",
              "        vertical-align: middle;\n",
              "    }\n",
              "\n",
              "    .dataframe tbody tr th {\n",
              "        vertical-align: top;\n",
              "    }\n",
              "\n",
              "    .dataframe thead th {\n",
              "        text-align: right;\n",
              "    }\n",
              "</style>\n",
              "<table border=\"1\" class=\"dataframe\">\n",
              "  <thead>\n",
              "    <tr style=\"text-align: right;\">\n",
              "      <th></th>\n",
              "      <th>species</th>\n",
              "      <th>island</th>\n",
              "      <th>bill_length_mm</th>\n",
              "      <th>bill_depth_mm</th>\n",
              "      <th>flipper_length_mm</th>\n",
              "      <th>body_mass_g</th>\n",
              "      <th>sex</th>\n",
              "    </tr>\n",
              "  </thead>\n",
              "  <tbody>\n",
              "    <tr>\n",
              "      <th>0</th>\n",
              "      <td>Adelie</td>\n",
              "      <td>Torgersen</td>\n",
              "      <td>39.1</td>\n",
              "      <td>18.7</td>\n",
              "      <td>181.0</td>\n",
              "      <td>3750.0</td>\n",
              "      <td>Male</td>\n",
              "    </tr>\n",
              "    <tr>\n",
              "      <th>1</th>\n",
              "      <td>Adelie</td>\n",
              "      <td>Torgersen</td>\n",
              "      <td>39.5</td>\n",
              "      <td>17.4</td>\n",
              "      <td>186.0</td>\n",
              "      <td>3800.0</td>\n",
              "      <td>Female</td>\n",
              "    </tr>\n",
              "    <tr>\n",
              "      <th>2</th>\n",
              "      <td>Adelie</td>\n",
              "      <td>Torgersen</td>\n",
              "      <td>40.3</td>\n",
              "      <td>18.0</td>\n",
              "      <td>195.0</td>\n",
              "      <td>3250.0</td>\n",
              "      <td>Female</td>\n",
              "    </tr>\n",
              "    <tr>\n",
              "      <th>4</th>\n",
              "      <td>Adelie</td>\n",
              "      <td>Torgersen</td>\n",
              "      <td>36.7</td>\n",
              "      <td>19.3</td>\n",
              "      <td>193.0</td>\n",
              "      <td>3450.0</td>\n",
              "      <td>Female</td>\n",
              "    </tr>\n",
              "    <tr>\n",
              "      <th>5</th>\n",
              "      <td>Adelie</td>\n",
              "      <td>Torgersen</td>\n",
              "      <td>39.3</td>\n",
              "      <td>20.6</td>\n",
              "      <td>190.0</td>\n",
              "      <td>3650.0</td>\n",
              "      <td>Male</td>\n",
              "    </tr>\n",
              "    <tr>\n",
              "      <th>6</th>\n",
              "      <td>Adelie</td>\n",
              "      <td>Torgersen</td>\n",
              "      <td>38.9</td>\n",
              "      <td>17.8</td>\n",
              "      <td>181.0</td>\n",
              "      <td>3625.0</td>\n",
              "      <td>Female</td>\n",
              "    </tr>\n",
              "    <tr>\n",
              "      <th>7</th>\n",
              "      <td>Adelie</td>\n",
              "      <td>Torgersen</td>\n",
              "      <td>39.2</td>\n",
              "      <td>19.6</td>\n",
              "      <td>195.0</td>\n",
              "      <td>4675.0</td>\n",
              "      <td>Male</td>\n",
              "    </tr>\n",
              "    <tr>\n",
              "      <th>12</th>\n",
              "      <td>Adelie</td>\n",
              "      <td>Torgersen</td>\n",
              "      <td>41.1</td>\n",
              "      <td>17.6</td>\n",
              "      <td>182.0</td>\n",
              "      <td>3200.0</td>\n",
              "      <td>Female</td>\n",
              "    </tr>\n",
              "    <tr>\n",
              "      <th>13</th>\n",
              "      <td>Adelie</td>\n",
              "      <td>Torgersen</td>\n",
              "      <td>38.6</td>\n",
              "      <td>21.2</td>\n",
              "      <td>191.0</td>\n",
              "      <td>3800.0</td>\n",
              "      <td>Male</td>\n",
              "    </tr>\n",
              "    <tr>\n",
              "      <th>14</th>\n",
              "      <td>Adelie</td>\n",
              "      <td>Torgersen</td>\n",
              "      <td>34.6</td>\n",
              "      <td>21.1</td>\n",
              "      <td>198.0</td>\n",
              "      <td>4400.0</td>\n",
              "      <td>Male</td>\n",
              "    </tr>\n",
              "  </tbody>\n",
              "</table>\n",
              "</div>\n",
              "    <div class=\"colab-df-buttons\">\n",
              "\n",
              "  <div class=\"colab-df-container\">\n",
              "    <button class=\"colab-df-convert\" onclick=\"convertToInteractive('df-dfcf16ce-4bb8-4908-83fc-fccfef48464a')\"\n",
              "            title=\"Convert this dataframe to an interactive table.\"\n",
              "            style=\"display:none;\">\n",
              "\n",
              "  <svg xmlns=\"http://www.w3.org/2000/svg\" height=\"24px\" viewBox=\"0 -960 960 960\">\n",
              "    <path d=\"M120-120v-720h720v720H120Zm60-500h600v-160H180v160Zm220 220h160v-160H400v160Zm0 220h160v-160H400v160ZM180-400h160v-160H180v160Zm440 0h160v-160H620v160ZM180-180h160v-160H180v160Zm440 0h160v-160H620v160Z\"/>\n",
              "  </svg>\n",
              "    </button>\n",
              "\n",
              "  <style>\n",
              "    .colab-df-container {\n",
              "      display:flex;\n",
              "      gap: 12px;\n",
              "    }\n",
              "\n",
              "    .colab-df-convert {\n",
              "      background-color: #E8F0FE;\n",
              "      border: none;\n",
              "      border-radius: 50%;\n",
              "      cursor: pointer;\n",
              "      display: none;\n",
              "      fill: #1967D2;\n",
              "      height: 32px;\n",
              "      padding: 0 0 0 0;\n",
              "      width: 32px;\n",
              "    }\n",
              "\n",
              "    .colab-df-convert:hover {\n",
              "      background-color: #E2EBFA;\n",
              "      box-shadow: 0px 1px 2px rgba(60, 64, 67, 0.3), 0px 1px 3px 1px rgba(60, 64, 67, 0.15);\n",
              "      fill: #174EA6;\n",
              "    }\n",
              "\n",
              "    .colab-df-buttons div {\n",
              "      margin-bottom: 4px;\n",
              "    }\n",
              "\n",
              "    [theme=dark] .colab-df-convert {\n",
              "      background-color: #3B4455;\n",
              "      fill: #D2E3FC;\n",
              "    }\n",
              "\n",
              "    [theme=dark] .colab-df-convert:hover {\n",
              "      background-color: #434B5C;\n",
              "      box-shadow: 0px 1px 3px 1px rgba(0, 0, 0, 0.15);\n",
              "      filter: drop-shadow(0px 1px 2px rgba(0, 0, 0, 0.3));\n",
              "      fill: #FFFFFF;\n",
              "    }\n",
              "  </style>\n",
              "\n",
              "    <script>\n",
              "      const buttonEl =\n",
              "        document.querySelector('#df-dfcf16ce-4bb8-4908-83fc-fccfef48464a button.colab-df-convert');\n",
              "      buttonEl.style.display =\n",
              "        google.colab.kernel.accessAllowed ? 'block' : 'none';\n",
              "\n",
              "      async function convertToInteractive(key) {\n",
              "        const element = document.querySelector('#df-dfcf16ce-4bb8-4908-83fc-fccfef48464a');\n",
              "        const dataTable =\n",
              "          await google.colab.kernel.invokeFunction('convertToInteractive',\n",
              "                                                    [key], {});\n",
              "        if (!dataTable) return;\n",
              "\n",
              "        const docLinkHtml = 'Like what you see? Visit the ' +\n",
              "          '<a target=\"_blank\" href=https://colab.research.google.com/notebooks/data_table.ipynb>data table notebook</a>'\n",
              "          + ' to learn more about interactive tables.';\n",
              "        element.innerHTML = '';\n",
              "        dataTable['output_type'] = 'display_data';\n",
              "        await google.colab.output.renderOutput(dataTable, element);\n",
              "        const docLink = document.createElement('div');\n",
              "        docLink.innerHTML = docLinkHtml;\n",
              "        element.appendChild(docLink);\n",
              "      }\n",
              "    </script>\n",
              "  </div>\n",
              "\n",
              "\n",
              "<div id=\"df-9c8fa1ce-3420-440b-9c7e-e5998674c830\">\n",
              "  <button class=\"colab-df-quickchart\" onclick=\"quickchart('df-9c8fa1ce-3420-440b-9c7e-e5998674c830')\"\n",
              "            title=\"Suggest charts\"\n",
              "            style=\"display:none;\">\n",
              "\n",
              "<svg xmlns=\"http://www.w3.org/2000/svg\" height=\"24px\"viewBox=\"0 0 24 24\"\n",
              "     width=\"24px\">\n",
              "    <g>\n",
              "        <path d=\"M19 3H5c-1.1 0-2 .9-2 2v14c0 1.1.9 2 2 2h14c1.1 0 2-.9 2-2V5c0-1.1-.9-2-2-2zM9 17H7v-7h2v7zm4 0h-2V7h2v10zm4 0h-2v-4h2v4z\"/>\n",
              "    </g>\n",
              "</svg>\n",
              "  </button>\n",
              "\n",
              "<style>\n",
              "  .colab-df-quickchart {\n",
              "      --bg-color: #E8F0FE;\n",
              "      --fill-color: #1967D2;\n",
              "      --hover-bg-color: #E2EBFA;\n",
              "      --hover-fill-color: #174EA6;\n",
              "      --disabled-fill-color: #AAA;\n",
              "      --disabled-bg-color: #DDD;\n",
              "  }\n",
              "\n",
              "  [theme=dark] .colab-df-quickchart {\n",
              "      --bg-color: #3B4455;\n",
              "      --fill-color: #D2E3FC;\n",
              "      --hover-bg-color: #434B5C;\n",
              "      --hover-fill-color: #FFFFFF;\n",
              "      --disabled-bg-color: #3B4455;\n",
              "      --disabled-fill-color: #666;\n",
              "  }\n",
              "\n",
              "  .colab-df-quickchart {\n",
              "    background-color: var(--bg-color);\n",
              "    border: none;\n",
              "    border-radius: 50%;\n",
              "    cursor: pointer;\n",
              "    display: none;\n",
              "    fill: var(--fill-color);\n",
              "    height: 32px;\n",
              "    padding: 0;\n",
              "    width: 32px;\n",
              "  }\n",
              "\n",
              "  .colab-df-quickchart:hover {\n",
              "    background-color: var(--hover-bg-color);\n",
              "    box-shadow: 0 1px 2px rgba(60, 64, 67, 0.3), 0 1px 3px 1px rgba(60, 64, 67, 0.15);\n",
              "    fill: var(--button-hover-fill-color);\n",
              "  }\n",
              "\n",
              "  .colab-df-quickchart-complete:disabled,\n",
              "  .colab-df-quickchart-complete:disabled:hover {\n",
              "    background-color: var(--disabled-bg-color);\n",
              "    fill: var(--disabled-fill-color);\n",
              "    box-shadow: none;\n",
              "  }\n",
              "\n",
              "  .colab-df-spinner {\n",
              "    border: 2px solid var(--fill-color);\n",
              "    border-color: transparent;\n",
              "    border-bottom-color: var(--fill-color);\n",
              "    animation:\n",
              "      spin 1s steps(1) infinite;\n",
              "  }\n",
              "\n",
              "  @keyframes spin {\n",
              "    0% {\n",
              "      border-color: transparent;\n",
              "      border-bottom-color: var(--fill-color);\n",
              "      border-left-color: var(--fill-color);\n",
              "    }\n",
              "    20% {\n",
              "      border-color: transparent;\n",
              "      border-left-color: var(--fill-color);\n",
              "      border-top-color: var(--fill-color);\n",
              "    }\n",
              "    30% {\n",
              "      border-color: transparent;\n",
              "      border-left-color: var(--fill-color);\n",
              "      border-top-color: var(--fill-color);\n",
              "      border-right-color: var(--fill-color);\n",
              "    }\n",
              "    40% {\n",
              "      border-color: transparent;\n",
              "      border-right-color: var(--fill-color);\n",
              "      border-top-color: var(--fill-color);\n",
              "    }\n",
              "    60% {\n",
              "      border-color: transparent;\n",
              "      border-right-color: var(--fill-color);\n",
              "    }\n",
              "    80% {\n",
              "      border-color: transparent;\n",
              "      border-right-color: var(--fill-color);\n",
              "      border-bottom-color: var(--fill-color);\n",
              "    }\n",
              "    90% {\n",
              "      border-color: transparent;\n",
              "      border-bottom-color: var(--fill-color);\n",
              "    }\n",
              "  }\n",
              "</style>\n",
              "\n",
              "  <script>\n",
              "    async function quickchart(key) {\n",
              "      const quickchartButtonEl =\n",
              "        document.querySelector('#' + key + ' button');\n",
              "      quickchartButtonEl.disabled = true;  // To prevent multiple clicks.\n",
              "      quickchartButtonEl.classList.add('colab-df-spinner');\n",
              "      try {\n",
              "        const charts = await google.colab.kernel.invokeFunction(\n",
              "            'suggestCharts', [key], {});\n",
              "      } catch (error) {\n",
              "        console.error('Error during call to suggestCharts:', error);\n",
              "      }\n",
              "      quickchartButtonEl.classList.remove('colab-df-spinner');\n",
              "      quickchartButtonEl.classList.add('colab-df-quickchart-complete');\n",
              "    }\n",
              "    (() => {\n",
              "      let quickchartButtonEl =\n",
              "        document.querySelector('#df-9c8fa1ce-3420-440b-9c7e-e5998674c830 button');\n",
              "      quickchartButtonEl.style.display =\n",
              "        google.colab.kernel.accessAllowed ? 'block' : 'none';\n",
              "    })();\n",
              "  </script>\n",
              "</div>\n",
              "\n",
              "    </div>\n",
              "  </div>\n"
            ],
            "application/vnd.google.colaboratory.intrinsic+json": {
              "type": "dataframe",
              "variable_name": "penguins_subset",
              "summary": "{\n  \"name\": \"penguins_subset\",\n  \"rows\": 333,\n  \"fields\": [\n    {\n      \"column\": \"species\",\n      \"properties\": {\n        \"dtype\": \"category\",\n        \"num_unique_values\": 3,\n        \"samples\": [\n          \"Adelie\",\n          \"Chinstrap\",\n          \"Gentoo\"\n        ],\n        \"semantic_type\": \"\",\n        \"description\": \"\"\n      }\n    },\n    {\n      \"column\": \"island\",\n      \"properties\": {\n        \"dtype\": \"category\",\n        \"num_unique_values\": 3,\n        \"samples\": [\n          \"Torgersen\",\n          \"Biscoe\",\n          \"Dream\"\n        ],\n        \"semantic_type\": \"\",\n        \"description\": \"\"\n      }\n    },\n    {\n      \"column\": \"bill_length_mm\",\n      \"properties\": {\n        \"dtype\": \"number\",\n        \"std\": 5.468668342647559,\n        \"min\": 32.1,\n        \"max\": 59.6,\n        \"num_unique_values\": 163,\n        \"samples\": [\n          59.6,\n          48.1,\n          46.3\n        ],\n        \"semantic_type\": \"\",\n        \"description\": \"\"\n      }\n    },\n    {\n      \"column\": \"bill_depth_mm\",\n      \"properties\": {\n        \"dtype\": \"number\",\n        \"std\": 1.9692354633199007,\n        \"min\": 13.1,\n        \"max\": 21.5,\n        \"num_unique_values\": 79,\n        \"samples\": [\n          19.5,\n          18.7,\n          17.0\n        ],\n        \"semantic_type\": \"\",\n        \"description\": \"\"\n      }\n    },\n    {\n      \"column\": \"flipper_length_mm\",\n      \"properties\": {\n        \"dtype\": \"number\",\n        \"std\": 14.015765288287879,\n        \"min\": 172.0,\n        \"max\": 231.0,\n        \"num_unique_values\": 54,\n        \"samples\": [\n          188.0,\n          231.0,\n          224.0\n        ],\n        \"semantic_type\": \"\",\n        \"description\": \"\"\n      }\n    },\n    {\n      \"column\": \"body_mass_g\",\n      \"properties\": {\n        \"dtype\": \"number\",\n        \"std\": 805.2158019428965,\n        \"min\": 2700.0,\n        \"max\": 6300.0,\n        \"num_unique_values\": 93,\n        \"samples\": [\n          4725.0,\n          3100.0,\n          3575.0\n        ],\n        \"semantic_type\": \"\",\n        \"description\": \"\"\n      }\n    },\n    {\n      \"column\": \"sex\",\n      \"properties\": {\n        \"dtype\": \"category\",\n        \"num_unique_values\": 2,\n        \"samples\": [\n          \"Female\",\n          \"Male\"\n        ],\n        \"semantic_type\": \"\",\n        \"description\": \"\"\n      }\n    }\n  ]\n}"
            }
          },
          "metadata": {},
          "execution_count": 31
        }
      ],
      "source": [
        "# View first 10 rows.\n",
        "\n",
        "### YOUR CODE HERE ###\n",
        "penguins_subset.head(10)"
      ]
    },
    {
      "cell_type": "markdown",
      "id": "c8ef3d38",
      "metadata": {
        "id": "c8ef3d38"
      },
      "source": [
        "### Encode data\n",
        "\n",
        "Some versions of the penguins dataset have values encoded in the sex column as 'Male' and 'Female' instead of 'MALE' and 'FEMALE'. The code below will make sure all values are ALL CAPS.\n"
      ]
    },
    {
      "cell_type": "code",
      "execution_count": 32,
      "id": "e1ead79c",
      "metadata": {
        "id": "e1ead79c",
        "colab": {
          "base_uri": "https://localhost:8080/"
        },
        "outputId": "750d79f3-9607-4218-ed5a-cb130abb50a2"
      },
      "outputs": [
        {
          "output_type": "stream",
          "name": "stderr",
          "text": [
            "<ipython-input-32-80fc93b06d85>:1: SettingWithCopyWarning: \n",
            "A value is trying to be set on a copy of a slice from a DataFrame.\n",
            "Try using .loc[row_indexer,col_indexer] = value instead\n",
            "\n",
            "See the caveats in the documentation: https://pandas.pydata.org/pandas-docs/stable/user_guide/indexing.html#returning-a-view-versus-a-copy\n",
            "  penguins_subset['sex'] = penguins_subset['sex'].str.upper()\n"
          ]
        }
      ],
      "source": [
        "penguins_subset['sex'] = penguins_subset['sex'].str.upper()"
      ]
    },
    {
      "cell_type": "markdown",
      "id": "42e29c03",
      "metadata": {
        "id": "42e29c03"
      },
      "source": [
        "K-means needs numeric columns for clustering. Convert the categorical column `'sex'` into numeric. There is no need to convert the `'species'` column because it isn't being used as a feature in the clustering algorithm."
      ]
    },
    {
      "cell_type": "code",
      "execution_count": 40,
      "id": "98b73bcb",
      "metadata": {
        "id": "98b73bcb",
        "colab": {
          "base_uri": "https://localhost:8080/"
        },
        "outputId": "dc9e7805-d1a4-4d01-cc35-75a033af3975"
      },
      "outputs": [
        {
          "output_type": "stream",
          "name": "stdout",
          "text": [
            "   species     island  bill_length_mm  bill_depth_mm  flipper_length_mm  \\\n",
            "0   Adelie  Torgersen            39.1           18.7              181.0   \n",
            "1   Adelie  Torgersen            39.5           17.4              186.0   \n",
            "2   Adelie  Torgersen            40.3           18.0              195.0   \n",
            "4   Adelie  Torgersen            36.7           19.3              193.0   \n",
            "5   Adelie  Torgersen            39.3           20.6              190.0   \n",
            "6   Adelie  Torgersen            38.9           17.8              181.0   \n",
            "7   Adelie  Torgersen            39.2           19.6              195.0   \n",
            "12  Adelie  Torgersen            41.1           17.6              182.0   \n",
            "13  Adelie  Torgersen            38.6           21.2              191.0   \n",
            "14  Adelie  Torgersen            34.6           21.1              198.0   \n",
            "\n",
            "    body_mass_g  sex  \n",
            "0        3750.0    1  \n",
            "1        3800.0    0  \n",
            "2        3250.0    0  \n",
            "4        3450.0    0  \n",
            "5        3650.0    1  \n",
            "6        3625.0    0  \n",
            "7        4675.0    1  \n",
            "12       3200.0    0  \n",
            "13       3800.0    1  \n",
            "14       4400.0    1  \n"
          ]
        },
        {
          "output_type": "stream",
          "name": "stderr",
          "text": [
            "<ipython-input-40-aaa31aba4523>:3: SettingWithCopyWarning: \n",
            "A value is trying to be set on a copy of a slice from a DataFrame\n",
            "\n",
            "See the caveats in the documentation: https://pandas.pydata.org/pandas-docs/stable/user_guide/indexing.html#returning-a-view-versus-a-copy\n",
            "  penguins_subset[\"sex\"].replace([\"MALE\",\"FEMALE\"],[1,0],inplace=True)\n"
          ]
        }
      ],
      "source": [
        "# Convert `sex` column from categorical to numeric.\n",
        "### YOUR CODE HERE ###\n",
        "penguins_subset[\"sex\"].replace([\"MALE\",\"FEMALE\"],[1,0],inplace=True)\n",
        "print(penguins_subset.head(10))"
      ]
    },
    {
      "cell_type": "markdown",
      "id": "6a83b905",
      "metadata": {
        "id": "6a83b905"
      },
      "source": [
        "<details>\n",
        "  <summary><h4><strong>Hint 1</strong></h4></summary>\n",
        "\n",
        "Use the `get_dummies` function.\n",
        "\n",
        "</details>"
      ]
    },
    {
      "cell_type": "markdown",
      "id": "2b007cc7",
      "metadata": {
        "id": "2b007cc7"
      },
      "source": [
        "<details>\n",
        "  <summary><h4><strong>Hint 2</strong></h4></summary>\n",
        "\n",
        "The `drop_first` parameter should be set to `True`. This removes redundant data. The `columns` parameter can **optionally** be set to `['sex']` to specify that only the `'sex'` column gets this operation performed on it.\n",
        "\n",
        "</details>"
      ]
    },
    {
      "cell_type": "markdown",
      "id": "35431ccd",
      "metadata": {
        "id": "35431ccd"
      },
      "source": [
        "### Drop a column\n",
        "\n",
        "Drop the categorical column `island` from the dataset. While it has value, this notebook is trying to confirm if penguins of the same species exhibit different physical characteristics based on sex. This doesn't include location.\n",
        "\n",
        "Note that the `'species'` column is not numeric. Don't drop the `'species'` column for now. It could potentially be used to help understand the clusters later."
      ]
    },
    {
      "cell_type": "code",
      "execution_count": 53,
      "id": "8281400a",
      "metadata": {
        "id": "8281400a",
        "colab": {
          "base_uri": "https://localhost:8080/"
        },
        "outputId": "fbb58d00-b9af-4d42-f7a3-6465d38957d4"
      },
      "outputs": [
        {
          "output_type": "stream",
          "name": "stdout",
          "text": [
            "  species  bill_length_mm  bill_depth_mm  flipper_length_mm  body_mass_g  sex\n",
            "0  Adelie            39.1           18.7              181.0       3750.0    1\n",
            "1  Adelie            39.5           17.4              186.0       3800.0    0\n",
            "2  Adelie            40.3           18.0              195.0       3250.0    0\n",
            "4  Adelie            36.7           19.3              193.0       3450.0    0\n",
            "5  Adelie            39.3           20.6              190.0       3650.0    1\n"
          ]
        }
      ],
      "source": [
        "# Drop the island column.\n",
        "\n",
        "### YOUR CODE HERE ###\n",
        "penguins_subset = penguins_subset.drop(\"island\",axis=\"columns\")\n",
        "print(penguins_subset.head(5))"
      ]
    },
    {
      "cell_type": "markdown",
      "id": "1dc49c96",
      "metadata": {
        "id": "1dc49c96"
      },
      "source": [
        "### Scale the features\n",
        "\n",
        "Because K-means uses distance between observations as its measure of similarity, it's important to scale the data before modeling. Use a third-party tool, such as scikit-learn's `StandardScaler` function. `StandardScaler` scales each point xᵢ by subtracting the mean observed value for that feature and dividing by the standard deviation:\n",
        "\n",
        "x-scaled = (xᵢ – mean(X)) / σ\n",
        "\n",
        "This ensures that all variables have a mean of 0 and variance/standard deviation of 1.\n",
        "\n",
        "**Note:** Because the species column isn't a feature, it doesn't need to be scaled.\n",
        "\n",
        "First, copy all the features except the `'species'` column to a DataFrame `X`."
      ]
    },
    {
      "cell_type": "code",
      "execution_count": 69,
      "id": "36c77c5c",
      "metadata": {
        "id": "36c77c5c",
        "colab": {
          "base_uri": "https://localhost:8080/"
        },
        "outputId": "f8472000-578f-4430-f2b4-6160aaf4a9a9"
      },
      "outputs": [
        {
          "output_type": "stream",
          "name": "stdout",
          "text": [
            "   bill_length_mm  bill_depth_mm  flipper_length_mm  body_mass_g  sex\n",
            "0            39.1           18.7              181.0       3750.0    1\n",
            "1            39.5           17.4              186.0       3800.0    0\n",
            "2            40.3           18.0              195.0       3250.0    0\n",
            "4            36.7           19.3              193.0       3450.0    0\n",
            "5            39.3           20.6              190.0       3650.0    1\n"
          ]
        },
        {
          "output_type": "execute_result",
          "data": {
            "text/plain": [
              "array([[-0.89604189,  0.7807321 , -1.42675157, -0.56847478,  0.99103121],\n",
              "       [-0.82278787,  0.11958397, -1.06947358, -0.50628618, -1.00904996],\n",
              "       [-0.67627982,  0.42472926, -0.42637319, -1.1903608 , -1.00904996],\n",
              "       ...,\n",
              "       [ 1.17338426, -0.74499437,  1.50292796,  1.91906927,  0.99103121],\n",
              "       [ 0.22108196, -1.20271231,  0.78837197,  1.23499466, -1.00904996],\n",
              "       [ 1.08181673, -0.54156417,  0.85982757,  1.48374906,  0.99103121]])"
            ]
          },
          "metadata": {},
          "execution_count": 69
        }
      ],
      "source": [
        "# Exclude `species` variable from X\n",
        "\n",
        "### YOUR CODE HERE ###\n",
        "scaler = StandardScaler()\n",
        "X_scaled = penguins_subset.drop(\"species\",axis=\"columns\")\n",
        "print(X_scaled.head(5))\n",
        "scaler.fit_transform(X_scaled)"
      ]
    },
    {
      "cell_type": "markdown",
      "id": "c5ae22ff",
      "metadata": {
        "id": "c5ae22ff"
      },
      "source": [
        "<details>\n",
        "  <summary><h4><strong>Hint 1</strong></h4></summary>\n",
        "\n",
        "Use`drop()`.\n",
        "</details>"
      ]
    },
    {
      "cell_type": "markdown",
      "id": "6002963b",
      "metadata": {
        "id": "6002963b"
      },
      "source": [
        "<details>\n",
        "  <summary><h4><strong>Hint 2</strong></h4></summary>\n",
        "\n",
        "Select all columns except `'species'.`The `axis` parameter passed in to this method should be set to `1` if you want to drop columns.\n",
        "</details>"
      ]
    },
    {
      "cell_type": "markdown",
      "id": "bda18fe8",
      "metadata": {
        "id": "bda18fe8"
      },
      "source": [
        "Scale the features in `X` using `StandardScaler`, and assign the scaled data to a new variable `X_scaled`."
      ]
    },
    {
      "cell_type": "code",
      "execution_count": null,
      "id": "4e6c3128",
      "metadata": {
        "id": "4e6c3128"
      },
      "outputs": [],
      "source": [
        "#Scale the features.\n",
        "#Assign the scaled data to variable `X_scaled`.\n",
        "\n",
        "### YOUR CODE HERE ###"
      ]
    },
    {
      "cell_type": "markdown",
      "id": "07d97cbb",
      "metadata": {
        "id": "07d97cbb"
      },
      "source": [
        "<details>\n",
        "  <summary><h4><strong>Hint 1</strong></h4></summary>\n",
        "\n",
        "Instantiate StandardScaler to transform the data in a single step.\n",
        "</details>"
      ]
    },
    {
      "cell_type": "markdown",
      "id": "43a0c6f8",
      "metadata": {
        "id": "43a0c6f8"
      },
      "source": [
        "<details>\n",
        "  <summary><h4><strong>Hint 2</strong></h4></summary>\n",
        "\n",
        "Use the `.fit_transform()` method and pass in the data as an argument.\n",
        "</details>"
      ]
    },
    {
      "cell_type": "markdown",
      "id": "47623855",
      "metadata": {
        "id": "47623855"
      },
      "source": [
        "## **Step 3: Data modeling**"
      ]
    },
    {
      "cell_type": "markdown",
      "id": "b83ee59a",
      "metadata": {
        "id": "b83ee59a"
      },
      "source": [
        "Now, fit K-means and evaluate inertia for different values of k. Because you may not know how many clusters exist in the data, start by fitting K-means and examining the inertia values for different values of k. To do this, write a function called `kmeans_inertia` that takes in `num_clusters` and `x_vals` (`X_scaled`) and returns a list of each k-value's inertia.\n",
        "\n",
        "When using K-means inside the function, set the `random_state` to `42`. This way, others can reproduce your results."
      ]
    },
    {
      "cell_type": "code",
      "execution_count": 97,
      "id": "990e3b7a",
      "metadata": {
        "id": "990e3b7a"
      },
      "outputs": [],
      "source": [
        "# Fit K-means and evaluate inertia for different values of k.\n",
        "\n",
        "### YOUR CODE HERE ###\n",
        "\n",
        "def kmeans_inertia(num_clusters,x_vals):\n",
        "  result = []\n",
        "  for n_cluster in num_clusters:\n",
        "    kmean = KMeans(n_clusters=n_cluster,random_state=42,n_init=\"auto\")\n",
        "    result.append(kmean.fit(x_vals).inertia_)\n",
        "  return result\n",
        "  # inertia_\n"
      ]
    },
    {
      "cell_type": "markdown",
      "id": "899a1634",
      "metadata": {
        "id": "899a1634"
      },
      "source": [
        "Use the `kmeans_inertia` function to return a list of inertia for k=2 to 10."
      ]
    },
    {
      "cell_type": "code",
      "execution_count": 98,
      "id": "6176b9c5",
      "metadata": {
        "id": "6176b9c5",
        "colab": {
          "base_uri": "https://localhost:8080/"
        },
        "outputId": "9b99cd21-808a-4acb-ad43-b60c507afcbf"
      },
      "outputs": [
        {
          "output_type": "stream",
          "name": "stdout",
          "text": [
            "[57585909.72381218, 28761742.477032878, 16043460.396291118, 10783386.063996434, 8331595.2760056, 6962853.031911466, 4969633.244015406, 3971359.2076440426, 3127606.6599585256]\n"
          ]
        }
      ],
      "source": [
        "# Return a list of inertia for k=2 to 10.\n",
        "\n",
        "### YOUR CODE HERE ###\n",
        "\n",
        "num_clusters = range(2,11)\n",
        "inertia = kmeans_inertia(num_clusters,X_scaled)\n",
        "print(inertia)"
      ]
    },
    {
      "cell_type": "markdown",
      "id": "d5fbce68",
      "metadata": {
        "id": "d5fbce68"
      },
      "source": [
        "<details>\n",
        "  <summary><h4><strong>Hint 1</strong></h4></summary>\n",
        "\n",
        "Review the material about the `kmeans_inertia` function.\n",
        "</details>"
      ]
    },
    {
      "cell_type": "markdown",
      "id": "6348791b",
      "metadata": {
        "id": "6348791b"
      },
      "source": [
        "Next, create a line plot that shows the relationship between `num_clusters` and `inertia`.\n",
        "Use either seaborn or matplotlib to visualize this relationship."
      ]
    },
    {
      "cell_type": "code",
      "execution_count": 99,
      "id": "a63272f1",
      "metadata": {
        "id": "a63272f1",
        "colab": {
          "base_uri": "https://localhost:8080/",
          "height": 463
        },
        "outputId": "b065c42d-c197-4b6f-949d-51a142c49491"
      },
      "outputs": [
        {
          "output_type": "execute_result",
          "data": {
            "text/plain": [
              "<Axes: >"
            ]
          },
          "metadata": {},
          "execution_count": 99
        },
        {
          "output_type": "display_data",
          "data": {
            "text/plain": [
              "<Figure size 640x480 with 1 Axes>"
            ],
            "image/png": "[encoded data removed]"
          },
          "metadata": {}
        }
      ],
      "source": [
        "# Create a line plot.\n",
        "\n",
        "### YOUR CODE HERE ###\n",
        "\n",
        "sns.lineplot(x=num_clusters,y=inertia)"
      ]
    },
    {
      "cell_type": "markdown",
      "id": "25b10370",
      "metadata": {
        "id": "25b10370"
      },
      "source": [
        "<details>\n",
        "  <summary><h4><strong>Hint 1</strong></h4></summary>\n",
        "\n",
        "Use `sns.lineplot`.\n",
        "</details>"
      ]
    },
    {
      "cell_type": "markdown",
      "id": "b5a1a1db",
      "metadata": {
        "id": "b5a1a1db"
      },
      "source": [
        "<details>\n",
        "  <summary><h4><strong>Hint 2</strong></h4></summary>\n",
        "\n",
        "Include `x=num_clusters` and `y=inertia`.\n",
        "</details>"
      ]
    },
    {
      "cell_type": "markdown",
      "id": "a3729bdb",
      "metadata": {
        "id": "a3729bdb"
      },
      "source": [
        "**Question:** Where is the elbow in the plot?"
      ]
    },
    {
      "cell_type": "markdown",
      "id": "d6b2c922",
      "metadata": {
        "id": "d6b2c922"
      },
      "source": [
        "[Write your response here. Double-click (or enter) to edit.]"
      ]
    },
    {
      "cell_type": "markdown",
      "id": "4c4198f7",
      "metadata": {
        "id": "4c4198f7"
      },
      "source": [
        "## **Step 4: Results and evaluation**"
      ]
    },
    {
      "cell_type": "markdown",
      "id": "4cb235ed",
      "metadata": {
        "id": "4cb235ed"
      },
      "source": [
        "Now, evaluate the silhouette score using the `silhouette_score()` function. Silhouette scores are used to study the distance between clusters."
      ]
    },
    {
      "cell_type": "markdown",
      "id": "1e3da4c3",
      "metadata": {
        "id": "1e3da4c3"
      },
      "source": [
        "Then, compare the silhouette score of each value of k, from 2 through 10. To do this, write a function called `kmeans_sil` that takes in `num_clusters` and `x_vals` (`X_scaled`) and returns a list of each k-value's silhouette score."
      ]
    },
    {
      "cell_type": "code",
      "execution_count": 100,
      "id": "97b6eab4",
      "metadata": {
        "id": "97b6eab4",
        "colab": {
          "base_uri": "https://localhost:8080/"
        },
        "outputId": "cdd28aa4-d18a-44f6-c96e-02c5baf2a1a7"
      },
      "outputs": [
        {
          "output_type": "stream",
          "name": "stdout",
          "text": [
            "[0.6307107041556592, 0.5598244502663529, 0.5504796013338757, 0.5223834479838265, 0.5167705359815726, 0.5132699399704942, 0.5083382042620387, 0.5066712181781283, 0.514177544645644]\n"
          ]
        }
      ],
      "source": [
        "# Evaluate silhouette score.\n",
        "# Write a function to return a list of each k-value's score.\n",
        "\n",
        "### YOUR CODE HERE ###\n",
        "def kmeans_sil(num_clusters,x_vals):\n",
        "  result =[]\n",
        "  for k in num_clusters:\n",
        "    # The fitted_labels here return a list of index which point to\n",
        "    # the cluster that each data belongs to : (0 -> k)\n",
        "    fitted_labels= KMeans(n_clusters=k,n_init=\"auto\").fit_predict(x_vals)\n",
        "    sil_score = silhouette_score(x_vals,fitted_labels)\n",
        "    result.append(sil_score)\n",
        "  return result\n",
        "\n",
        "sil_score = kmeans_sil(num_clusters,X_scaled)\n",
        "print(sil_score)\n"
      ]
    },
    {
      "cell_type": "markdown",
      "id": "bec614fc",
      "metadata": {
        "id": "bec614fc"
      },
      "source": [
        "<details>\n",
        "  <summary><h4><strong>Hint 1</strong></h4></summary>\n",
        "\n",
        "Review the `kmeans_sil` function video.\n",
        "</details>"
      ]
    },
    {
      "cell_type": "markdown",
      "id": "0029eb06",
      "metadata": {
        "id": "0029eb06"
      },
      "source": [
        "Next, create a line plot that shows the relationship between `num_clusters` and `sil_score`.\n",
        "Use either seaborn or matplotlib to visualize this relationship."
      ]
    },
    {
      "cell_type": "code",
      "execution_count": 101,
      "id": "0bab7a12",
      "metadata": {
        "id": "0bab7a12",
        "colab": {
          "base_uri": "https://localhost:8080/",
          "height": 448
        },
        "outputId": "7f3d8c1d-629d-43bb-bee9-2343b5607fe5"
      },
      "outputs": [
        {
          "output_type": "execute_result",
          "data": {
            "text/plain": [
              "<Axes: >"
            ]
          },
          "metadata": {},
          "execution_count": 101
        },
        {
          "output_type": "display_data",
          "data": {
            "text/plain": [
              "<Figure size 640x480 with 1 Axes>"
            ],
            "image/png": "[encoded data removed]"
          },
          "metadata": {}
        }
      ],
      "source": [
        "# Create a line plot.\n",
        "\n",
        "### YOUR CODE HERE ###\n",
        "sns.lineplot(x=num_clusters,y=sil_score)"
      ]
    },
    {
      "cell_type": "markdown",
      "id": "9108fd84",
      "metadata": {
        "id": "9108fd84"
      },
      "source": [
        "<details>\n",
        "  <summary><h4><strong>Hint 1</strong></h4></summary>\n",
        "\n",
        "Use `sns.lineplot`.\n",
        "</details>"
      ]
    },
    {
      "cell_type": "markdown",
      "id": "2543a652",
      "metadata": {
        "id": "2543a652"
      },
      "source": [
        "<details>\n",
        "  <summary><h4><strong>Hint 2</strong></h4></summary>\n",
        "\n",
        "Include `x=num_clusters` and `y=sil_score`.\n",
        "</details>"
      ]
    },
    {
      "cell_type": "markdown",
      "id": "d333e985",
      "metadata": {
        "id": "d333e985"
      },
      "source": [
        "**Question:** What does the graph show?"
      ]
    },
    {
      "cell_type": "markdown",
      "id": "2ca72f01",
      "metadata": {
        "id": "2ca72f01"
      },
      "source": [
        "[Write your response here. Double-click (or enter) to edit.]"
      ]
    },
    {
      "cell_type": "markdown",
      "id": "42b0a259",
      "metadata": {
        "id": "42b0a259"
      },
      "source": [
        "### Optimal k-value"
      ]
    },
    {
      "cell_type": "markdown",
      "id": "b6729faa",
      "metadata": {
        "id": "b6729faa"
      },
      "source": [
        "To decide on an optimal k-value, fit a six-cluster model to the dataset."
      ]
    },
    {
      "cell_type": "code",
      "execution_count": null,
      "id": "819d556f",
      "metadata": {
        "id": "819d556f"
      },
      "outputs": [],
      "source": [
        "# Fit a 6-cluster model.\n",
        "\n",
        "### YOUR CODE HERE ###"
      ]
    },
    {
      "cell_type": "markdown",
      "id": "762c491c",
      "metadata": {
        "id": "762c491c"
      },
      "source": [
        "<details>\n",
        "  <summary><h4><strong>Hint 1</strong></h4></summary>\n",
        "\n",
        "Make an instance of the model with `num_clusters = 6` and use the `fit` function on `X_scaled`.\n",
        "</details>\n",
        "\n",
        "\n"
      ]
    },
    {
      "cell_type": "markdown",
      "id": "6f4afe26",
      "metadata": {
        "id": "6f4afe26"
      },
      "source": [
        "Print out the unique labels of the fit model."
      ]
    },
    {
      "cell_type": "code",
      "execution_count": null,
      "id": "c0679381",
      "metadata": {
        "id": "c0679381"
      },
      "outputs": [],
      "source": [
        "# Print unique labels.\n",
        "\n",
        "### YOUR CODE HERE ###"
      ]
    },
    {
      "cell_type": "markdown",
      "id": "e69eb4c8",
      "metadata": {
        "id": "e69eb4c8"
      },
      "source": [
        "Now, create a new column `cluster` that indicates cluster assignment in the DataFrame `penguins_subset`. It's important to understand the meaning of each cluster's labels, then decide whether the clustering makes sense.\n",
        "\n",
        "**Note:** This task is done using `penguins_subset` because it is often easier to interpret unscaled data."
      ]
    },
    {
      "cell_type": "code",
      "execution_count": null,
      "id": "05c92460",
      "metadata": {
        "id": "05c92460"
      },
      "outputs": [],
      "source": [
        "# Create a new column `cluster`.\n",
        "\n",
        "### YOUR CODE HERE ###"
      ]
    },
    {
      "cell_type": "markdown",
      "id": "bafb929b",
      "metadata": {
        "id": "bafb929b"
      },
      "source": [
        "Use `groupby` to verify if any `'cluster'` can be differentiated by `'species'`."
      ]
    },
    {
      "cell_type": "code",
      "execution_count": null,
      "id": "7619b546",
      "metadata": {
        "id": "7619b546"
      },
      "outputs": [],
      "source": [
        "# Verify if any `cluster` can be differentiated by `species`.\n",
        "\n",
        "### YOUR CODE HERE ###"
      ]
    },
    {
      "cell_type": "markdown",
      "id": "71d5fb07",
      "metadata": {
        "id": "71d5fb07"
      },
      "source": [
        "<details>\n",
        "  <summary><h4><strong>Hint 1</strong></h4></summary>\n",
        "\n",
        "Use `groupby(by=['cluster', 'species'])`.\n",
        "\n",
        "</details>\n"
      ]
    },
    {
      "cell_type": "markdown",
      "id": "ab5a86ae",
      "metadata": {
        "id": "ab5a86ae"
      },
      "source": [
        "<details>\n",
        "  <summary><h4><strong>Hint 2</strong></h4></summary>\n",
        "\n",
        "\n",
        "Use an aggregation function such as `size`.\n",
        "\n",
        "</details>"
      ]
    },
    {
      "cell_type": "markdown",
      "id": "28c2999f",
      "metadata": {
        "id": "28c2999f"
      },
      "source": [
        "Next, interpret the groupby outputs. Although the results of the groupby show that each `'cluster'` can be differentiated by `'species'`, it is useful to visualize these results. The graph shows that each `'cluster'` can be differentiated by `'species'`.\n",
        "\n",
        "**Note:** The code for the graph below is outside the scope of this lab."
      ]
    },
    {
      "cell_type": "code",
      "execution_count": null,
      "id": "653be569",
      "metadata": {
        "id": "653be569"
      },
      "outputs": [],
      "source": [
        "penguins_subset.groupby(by=['cluster', 'species']).size().plot.bar(title='Clusters differentiated by species',\n",
        "                                                                   figsize=(6, 5),\n",
        "                                                                   ylabel='Size',\n",
        "                                                                   xlabel='(Cluster, Species)');"
      ]
    },
    {
      "cell_type": "markdown",
      "id": "ea5b1345",
      "metadata": {
        "id": "ea5b1345"
      },
      "source": [
        "Use `groupby` to verify if each `'cluster'` can be differentiated by `'species'` AND `'sex_MALE'`."
      ]
    },
    {
      "cell_type": "code",
      "execution_count": null,
      "id": "54721a69",
      "metadata": {
        "id": "54721a69"
      },
      "outputs": [],
      "source": [
        "# Verify if each `cluster` can be differentiated by `species' AND `sex_MALE`.\n",
        "\n",
        "### YOUR CODE HERE ###"
      ]
    },
    {
      "cell_type": "markdown",
      "id": "1d564de4",
      "metadata": {
        "id": "1d564de4"
      },
      "source": [
        "<details>\n",
        "  <summary><h4><strong>Hint 1</strong></h4></summary>\n",
        "\n",
        "Use `groupby(by=['cluster','species', 'sex_MALE'])`.\n",
        "</details>\n"
      ]
    },
    {
      "cell_type": "markdown",
      "id": "4b1c5b44",
      "metadata": {
        "id": "4b1c5b44"
      },
      "source": [
        "<details>\n",
        "  <summary><h4><strong>Hint 2</strong></h4></summary>\n",
        "\n",
        "Use an aggregation function such as `size`.\n",
        "</details>"
      ]
    },
    {
      "cell_type": "markdown",
      "id": "58ff14a4",
      "metadata": {
        "id": "58ff14a4"
      },
      "source": [
        "**Question:** Are the clusters differentiated by `'species'` and `'sex_MALE'`?"
      ]
    },
    {
      "cell_type": "markdown",
      "id": "bf3c8370",
      "metadata": {
        "id": "bf3c8370"
      },
      "source": [
        "[Write your response here. Double-click (or enter) to edit.]"
      ]
    },
    {
      "cell_type": "markdown",
      "id": "cf2274fb",
      "metadata": {
        "id": "cf2274fb"
      },
      "source": [
        "Finally, interpret the groupby outputs and visualize these results. The graph shows that each `'cluster'` can be differentiated by `'species'` and `'sex_MALE'`. Furthermore, each cluster is mostly comprised of one sex and one species.\n",
        "\n",
        "**Note:** The code for the graph below is outside the scope of this lab."
      ]
    },
    {
      "cell_type": "code",
      "execution_count": null,
      "id": "fd85c53a",
      "metadata": {
        "id": "fd85c53a"
      },
      "outputs": [],
      "source": [
        "penguins_subset.groupby(by=['cluster','species','sex_MALE']).size().unstack(level = 'species', fill_value=0).plot.bar(title='Clusters differentiated by species and sex',\n",
        "                                                                                                                      figsize=(6, 5),\n",
        "                                                                                                                      ylabel='Size',\n",
        "                                                                                                                      xlabel='(Cluster, Sex)')\n",
        "plt.legend(bbox_to_anchor=(1.3, 1.0))"
      ]
    },
    {
      "cell_type": "markdown",
      "id": "82607f71",
      "metadata": {
        "id": "82607f71"
      },
      "source": [
        "## **Considerations**\n",
        "\n",
        "\n",
        "**What are some key takeaways that you learned during this lab? Consider the process you used, key tools, and the results of your investigation.**\n",
        "\n",
        "[Write your response here. Double-click (or enter) to edit.]\n",
        "\n",
        "\n",
        "**What summary would you provide to stakeholders?**\n",
        "\n",
        "[Write your response here. Double-click (or enter) to edit.]\n",
        "\n",
        "\n",
        "\n"
      ]
    },
    {
      "cell_type": "markdown",
      "id": "3c984bf1",
      "metadata": {
        "id": "3c984bf1"
      },
      "source": [
        "### References\n",
        "\n",
        "[Gorman, Kristen B., et al. “Ecological Sexual Dimorphism and Environmental Variability within a Community of Antarctic Penguins (Genus Pygoscelis).” PLOS ONE, vol. 9, no. 3, Mar. 2014, p. e90081. PLoS Journals](https://doi.org/10.1371/journal.pone.0090081)\n",
        "\n",
        "[Sklearn Preprocessing StandardScaler scikit-learn](https://scikit-learn.org/stable/modules/generated/sklearn.preprocessing.StandardScaler.html)"
      ]
    },
    {
      "cell_type": "markdown",
      "id": "a8fd42d2",
      "metadata": {
        "id": "a8fd42d2"
      },
      "source": [
        "**Congratulations!** You've completed this lab."
      ]
    },
    {
      "cell_type": "code",
      "execution_count": null,
      "id": "91e076bd-ca95-4091-adc2-fb06cc0554e9",
      "metadata": {
        "id": "91e076bd-ca95-4091-adc2-fb06cc0554e9"
      },
      "outputs": [],
      "source": []
    }
  ],
  "metadata": {
    "colab": {
      "provenance": [],
      "toc_visible": true,
      "include_colab_link": true
    },
    "gpuClass": "standard",
    "kernelspec": {
      "display_name": "Python 3 (ipykernel)",
      "language": "python",
      "name": "python3"
    },
    "language_info": {
      "codemirror_mode": {
        "name": "ipython",
        "version": 3
      },
      "file_extension": ".py",
      "mimetype": "text/x-python",
      "name": "python",
      "nbconvert_exporter": "python",
      "pygments_lexer": "ipython3",
      "version": "3.11.5"
    }
  },
  "nbformat": 4,
  "nbformat_minor": 5
}