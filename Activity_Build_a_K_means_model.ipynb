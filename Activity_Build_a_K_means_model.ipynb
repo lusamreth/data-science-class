{
  "cells": [
    {
      "cell_type": "markdown",
      "metadata": {
        "id": "view-in-github",
        "colab_type": "text"
      },
      "source": [
        "<a href=\"https://colab.research.google.com/github/lusamreth/data-science-class/blob/main/Activity_Build_a_K_means_model.ipynb\" target=\"_parent\"><img src=\"https://colab.research.google.com/assets/colab-badge.svg\" alt=\"Open In Colab\"/></a>"
      ]
    },
    {
      "cell_type": "markdown",
      "id": "d84fb10e",
      "metadata": {
        "id": "d84fb10e"
      },
      "source": [
        "# Activity: Build a K-means model\n",
        "\n",
        "## **Introduction**\n",
        "\n",
        "K-means clustering is very effective when segmenting data and attempting to find patterns. Because clustering is used in a broad array of industries, becoming proficient in this process will help you expand your skillset in a widely applicable way.   \n",
        "\n",
        "In this activity, you are a consultant for a scientific organization that works to support and sustain penguin colonies. You are tasked with helping other staff members learn more about penguins in order to achieve this mission.\n",
        "\n",
        "The data for this activity is in a spreadsheet that includes datapoints across a sample size of 345 penguins, such as species, island, and sex. Your will use a K-means clustering model to group this data and identify patterns that provide important insights about penguins.\n",
        "\n",
        "**Note:** Because this lab uses a real dataset, this notebook will first require basic EDA, data cleaning, and other manipulations to prepare the data for modeling."
      ]
    },
    {
      "cell_type": "markdown",
      "id": "636df324",
      "metadata": {
        "id": "636df324"
      },
      "source": [
        "## **Step 1: Imports**\n"
      ]
    },
    {
      "cell_type": "markdown",
      "id": "e819deaf",
      "metadata": {
        "id": "e819deaf"
      },
      "source": [
        "Import statements including `K-means`, `silhouette_score`, and `StandardScaler`."
      ]
    },
    {
      "cell_type": "code",
      "execution_count": null,
      "id": "246d3d33",
      "metadata": {
        "id": "246d3d33"
      },
      "outputs": [],
      "source": [
        "# Import standard operational packages.\n",
        "\n",
        "# Important tools for modeling and evaluation.\n",
        "\n",
        "# Import visualization packages.\n",
        "\n",
        "### YOUR CODE HERE ###"
      ]
    },
    {
      "cell_type": "markdown",
      "id": "adea7b70",
      "metadata": {
        "id": "adea7b70"
      },
      "source": [
        "`Pandas` is used to load the penguins dataset, which is built into the `seaborn` library. The resulting `pandas` DataFrame is saved in a variable named `penguins`. As shown in this cell, the dataset has been automatically loaded in for you. You do not need to download the .csv file, or provide more code, in order to access the dataset and proceed with this lab. Please continue with this activity by completing the following instructions."
      ]
    },
    {
      "cell_type": "code",
      "execution_count": null,
      "id": "1578f838",
      "metadata": {
        "id": "1578f838"
      },
      "outputs": [],
      "source": [
        "# RUN THIS CELL TO IMPORT YOUR DATA.\n",
        "\n",
        "# Save the `pandas` DataFrame in variable `penguins`.\n",
        "\n",
        "### YOUR CODE HERE ###\n",
        "\n",
        "penguins = pd.read_csv(\"penguins.csv\")"
      ]
    },
    {
      "cell_type": "markdown",
      "id": "b46934b5",
      "metadata": {
        "id": "b46934b5"
      },
      "source": [
        "<details>\n",
        "  <summary><h4><strong>Hint 1</strong></h4></summary>\n",
        "\n",
        "Use the `load_dataset` function.\n",
        "\n",
        "</details>"
      ]
    },
    {
      "cell_type": "markdown",
      "id": "305ad97b",
      "metadata": {
        "id": "305ad97b"
      },
      "source": [
        "<details>\n",
        "  <summary><h4><strong>Hint 2</strong></h4></summary>\n",
        "\n",
        "The function is from seaborn (`sns`). It should be passed in the dataset name `'penguins'` as a string.\n",
        "\n",
        "</details>"
      ]
    },
    {
      "cell_type": "markdown",
      "id": "6c1688b8",
      "metadata": {
        "id": "6c1688b8"
      },
      "source": [
        "Now, review the first 10 rows of data.\n"
      ]
    },
    {
      "cell_type": "code",
      "execution_count": null,
      "id": "4e319e9d",
      "metadata": {
        "id": "4e319e9d"
      },
      "outputs": [],
      "source": [
        "# Review the first 10 rows.\n",
        "\n",
        "### YOUR CODE HERE ###"
      ]
    },
    {
      "cell_type": "markdown",
      "id": "d6b9074d",
      "metadata": {
        "id": "d6b9074d"
      },
      "source": [
        "<details>\n",
        "  <summary><h4><strong>Hint 1</strong></h4></summary>\n",
        "\n",
        "Use the `head()` method.\n",
        "\n",
        "</details>"
      ]
    },
    {
      "cell_type": "markdown",
      "id": "15445bc5",
      "metadata": {
        "id": "15445bc5"
      },
      "source": [
        "<details>\n",
        "  <summary><h4><strong>Hint 2</strong></h4></summary>\n",
        "\n",
        "By default, the method only returns five rows. To change this, specify how many rows `(n = )` you want.\n",
        "\n",
        "</details>"
      ]
    },
    {
      "cell_type": "markdown",
      "id": "f2a3e0df",
      "metadata": {
        "id": "f2a3e0df",
        "tags": []
      },
      "source": [
        "## **Step 2: Data exploration**\n",
        "\n",
        "After loading the dataset, the next step is to prepare the data to be suitable for clustering. This includes:\n",
        "\n",
        "*   Exploring data\n",
        "*   Checking for missing values\n",
        "*   Encoding data\n",
        "*   Dropping a column\n",
        "*   Scaling the features using `StandardScaler`"
      ]
    },
    {
      "cell_type": "markdown",
      "id": "2d527961",
      "metadata": {
        "id": "2d527961"
      },
      "source": [
        "### Explore data\n",
        "\n",
        "To cluster penguins of multiple different species, determine how many different types of penguin species are in the dataset."
      ]
    },
    {
      "cell_type": "code",
      "execution_count": null,
      "id": "89b13b26",
      "metadata": {
        "id": "89b13b26"
      },
      "outputs": [],
      "source": [
        "# Find out how many penguin types there are.\n",
        "\n",
        "### YOUR CODE HERE ###"
      ]
    },
    {
      "cell_type": "markdown",
      "id": "d1c43c43",
      "metadata": {
        "id": "d1c43c43"
      },
      "source": [
        "<details>\n",
        "  <summary><h4><strong>Hint 1</strong></h4></summary>\n",
        "\n",
        "Use the `unique()` method.\n",
        "\n",
        "</details>"
      ]
    },
    {
      "cell_type": "markdown",
      "id": "75c73a96",
      "metadata": {
        "id": "75c73a96"
      },
      "source": [
        "<details>\n",
        "  <summary><h4><strong>Hint 2</strong></h4></summary>\n",
        "\n",
        "Use the `unique()` method on the column `'species'`.\n",
        "\n",
        "</details>"
      ]
    },
    {
      "cell_type": "code",
      "execution_count": null,
      "id": "d861a808",
      "metadata": {
        "id": "d861a808"
      },
      "outputs": [],
      "source": [
        "# Find the count of each species type.\n",
        "\n",
        "### YOUR CODE HERE ###"
      ]
    },
    {
      "cell_type": "markdown",
      "id": "86ce4356",
      "metadata": {
        "id": "86ce4356"
      },
      "source": [
        "<details>\n",
        "  <summary><h4><strong>Hint 1</strong></h4></summary>\n",
        "\n",
        "Use the `value_counts()` method.\n",
        "\n",
        "</details>"
      ]
    },
    {
      "cell_type": "markdown",
      "id": "9d8880db",
      "metadata": {
        "id": "9d8880db"
      },
      "source": [
        "<details>\n",
        "  <summary><h4><strong>Hint 2</strong></h4></summary>\n",
        "\n",
        "Use the `value_counts()` method on the column `'species'`.\n",
        "\n",
        "</details>"
      ]
    },
    {
      "cell_type": "markdown",
      "id": "f08dfae6",
      "metadata": {
        "id": "f08dfae6"
      },
      "source": [
        "**Question:** How many types of species are present in the dataset?"
      ]
    },
    {
      "cell_type": "markdown",
      "id": "04e2a562",
      "metadata": {
        "id": "04e2a562"
      },
      "source": [
        "[Write your response here. Double-click (or enter) to edit.]"
      ]
    },
    {
      "cell_type": "markdown",
      "id": "f4d208a3",
      "metadata": {
        "id": "f4d208a3"
      },
      "source": [
        "**Question:** Why is it helpful to determine the perfect number of clusters using K-means when you already know how many penguin species the dataset contains?"
      ]
    },
    {
      "cell_type": "markdown",
      "id": "bfdbdc8c",
      "metadata": {
        "id": "bfdbdc8c"
      },
      "source": [
        "[Write your response here. Double-click (or enter) to edit.]"
      ]
    },
    {
      "cell_type": "markdown",
      "id": "e5586304",
      "metadata": {
        "id": "e5586304"
      },
      "source": [
        "### Check for missing values"
      ]
    },
    {
      "cell_type": "markdown",
      "id": "7f0efbd4",
      "metadata": {
        "id": "7f0efbd4"
      },
      "source": [
        "An assumption of K-means is that there are no missing values. Check for missing values in the rows of the data."
      ]
    },
    {
      "cell_type": "code",
      "execution_count": null,
      "id": "37c7d86f",
      "metadata": {
        "id": "37c7d86f"
      },
      "outputs": [],
      "source": [
        "# Check for missing values.\n",
        "\n",
        "### YOUR CODE HERE ###"
      ]
    },
    {
      "cell_type": "markdown",
      "id": "07fbc89c",
      "metadata": {
        "id": "07fbc89c"
      },
      "source": [
        "<details>\n",
        "  <summary><h4><strong>Hint 1</strong></h4></summary>\n",
        "\n",
        "Use the `isnull` and `sum` methods.\n",
        "\n",
        "</details>"
      ]
    },
    {
      "cell_type": "markdown",
      "id": "b93232b2",
      "metadata": {
        "id": "b93232b2"
      },
      "source": [
        "Now, drop the rows with missing values and save the resulting pandas DataFrame in a variable named `penguins_subset`."
      ]
    },
    {
      "cell_type": "code",
      "execution_count": null,
      "id": "885cf8c2",
      "metadata": {
        "id": "885cf8c2"
      },
      "outputs": [],
      "source": [
        "# Drop rows with missing values.\n",
        "# Save DataFrame in variable `penguins_subset`.\n",
        "\n",
        "### YOUR CODE HERE ###"
      ]
    },
    {
      "cell_type": "markdown",
      "id": "f719547b",
      "metadata": {
        "id": "f719547b"
      },
      "source": [
        "<details>\n",
        "  <summary><h4><strong>Hint 1</strong></h4></summary>\n",
        "\n",
        "Use `dropna`. Note that an axis parameter passed in to this function should be set to 0 if you want to drop rows containing missing values or 1 if you want to drop columns containing missing values. Optionally, `reset_index` may also be used to avoid a SettingWithCopy warning later in the notebook.\n",
        "</details>"
      ]
    },
    {
      "cell_type": "markdown",
      "id": "519bf1ee",
      "metadata": {
        "id": "519bf1ee"
      },
      "source": [
        "Next, check to make sure that `penguins_subset` does not contain any missing values."
      ]
    },
    {
      "cell_type": "code",
      "execution_count": null,
      "id": "14dbe623",
      "metadata": {
        "id": "14dbe623"
      },
      "outputs": [],
      "source": [
        "# Check for missing values.\n",
        "\n",
        "### YOUR CODE HERE ###"
      ]
    },
    {
      "cell_type": "markdown",
      "id": "910aa899",
      "metadata": {
        "id": "910aa899"
      },
      "source": [
        "Now, review the first 10 rows of the subset."
      ]
    },
    {
      "cell_type": "code",
      "execution_count": null,
      "id": "5f80460e",
      "metadata": {
        "id": "5f80460e"
      },
      "outputs": [],
      "source": [
        "# View first 10 rows.\n",
        "\n",
        "### YOUR CODE HERE ###"
      ]
    },
    {
      "cell_type": "markdown",
      "id": "c8ef3d38",
      "metadata": {
        "id": "c8ef3d38"
      },
      "source": [
        "### Encode data\n",
        "\n",
        "Some versions of the penguins dataset have values encoded in the sex column as 'Male' and 'Female' instead of 'MALE' and 'FEMALE'. The code below will make sure all values are ALL CAPS.\n"
      ]
    },
    {
      "cell_type": "code",
      "execution_count": null,
      "id": "e1ead79c",
      "metadata": {
        "id": "e1ead79c"
      },
      "outputs": [],
      "source": [
        "penguins_subset['sex'] = penguins_subset['sex'].str.upper()"
      ]
    },
    {
      "cell_type": "markdown",
      "id": "42e29c03",
      "metadata": {
        "id": "42e29c03"
      },
      "source": [
        "K-means needs numeric columns for clustering. Convert the categorical column `'sex'` into numeric. There is no need to convert the `'species'` column because it isn't being used as a feature in the clustering algorithm."
      ]
    },
    {
      "cell_type": "code",
      "execution_count": null,
      "id": "98b73bcb",
      "metadata": {
        "id": "98b73bcb"
      },
      "outputs": [],
      "source": [
        "# Convert `sex` column from categorical to numeric.\n",
        "\n",
        "### YOUR CODE HERE ###"
      ]
    },
    {
      "cell_type": "markdown",
      "id": "6a83b905",
      "metadata": {
        "id": "6a83b905"
      },
      "source": [
        "<details>\n",
        "  <summary><h4><strong>Hint 1</strong></h4></summary>\n",
        "\n",
        "Use the `get_dummies` function.\n",
        "\n",
        "</details>"
      ]
    },
    {
      "cell_type": "markdown",
      "id": "2b007cc7",
      "metadata": {
        "id": "2b007cc7"
      },
      "source": [
        "<details>\n",
        "  <summary><h4><strong>Hint 2</strong></h4></summary>\n",
        "\n",
        "The `drop_first` parameter should be set to `True`. This removes redundant data. The `columns` parameter can **optionally** be set to `['sex']` to specify that only the `'sex'` column gets this operation performed on it.\n",
        "\n",
        "</details>"
      ]
    },
    {
      "cell_type": "markdown",
      "id": "35431ccd",
      "metadata": {
        "id": "35431ccd"
      },
      "source": [
        "### Drop a column\n",
        "\n",
        "Drop the categorical column `island` from the dataset. While it has value, this notebook is trying to confirm if penguins of the same species exhibit different physical characteristics based on sex. This doesn't include location.\n",
        "\n",
        "Note that the `'species'` column is not numeric. Don't drop the `'species'` column for now. It could potentially be used to help understand the clusters later."
      ]
    },
    {
      "cell_type": "code",
      "execution_count": null,
      "id": "8281400a",
      "metadata": {
        "id": "8281400a"
      },
      "outputs": [],
      "source": [
        "# Drop the island column.\n",
        "\n",
        "### YOUR CODE HERE ###"
      ]
    },
    {
      "cell_type": "markdown",
      "id": "1dc49c96",
      "metadata": {
        "id": "1dc49c96"
      },
      "source": [
        "### Scale the features\n",
        "\n",
        "Because K-means uses distance between observations as its measure of similarity, it's important to scale the data before modeling. Use a third-party tool, such as scikit-learn's `StandardScaler` function. `StandardScaler` scales each point xᵢ by subtracting the mean observed value for that feature and dividing by the standard deviation:\n",
        "\n",
        "x-scaled = (xᵢ – mean(X)) / σ\n",
        "\n",
        "This ensures that all variables have a mean of 0 and variance/standard deviation of 1.\n",
        "\n",
        "**Note:** Because the species column isn't a feature, it doesn't need to be scaled.\n",
        "\n",
        "First, copy all the features except the `'species'` column to a DataFrame `X`."
      ]
    },
    {
      "cell_type": "code",
      "execution_count": null,
      "id": "36c77c5c",
      "metadata": {
        "id": "36c77c5c"
      },
      "outputs": [],
      "source": [
        "# Exclude `species` variable from X\n",
        "\n",
        "### YOUR CODE HERE ###"
      ]
    },
    {
      "cell_type": "markdown",
      "id": "c5ae22ff",
      "metadata": {
        "id": "c5ae22ff"
      },
      "source": [
        "<details>\n",
        "  <summary><h4><strong>Hint 1</strong></h4></summary>\n",
        "\n",
        "Use`drop()`.\n",
        "</details>"
      ]
    },
    {
      "cell_type": "markdown",
      "id": "6002963b",
      "metadata": {
        "id": "6002963b"
      },
      "source": [
        "<details>\n",
        "  <summary><h4><strong>Hint 2</strong></h4></summary>\n",
        "\n",
        "Select all columns except `'species'.`The `axis` parameter passed in to this method should be set to `1` if you want to drop columns.\n",
        "</details>"
      ]
    },
    {
      "cell_type": "markdown",
      "id": "bda18fe8",
      "metadata": {
        "id": "bda18fe8"
      },
      "source": [
        "Scale the features in `X` using `StandardScaler`, and assign the scaled data to a new variable `X_scaled`."
      ]
    },
    {
      "cell_type": "code",
      "execution_count": null,
      "id": "4e6c3128",
      "metadata": {
        "id": "4e6c3128"
      },
      "outputs": [],
      "source": [
        "#Scale the features.\n",
        "#Assign the scaled data to variable `X_scaled`.\n",
        "\n",
        "### YOUR CODE HERE ###"
      ]
    },
    {
      "cell_type": "markdown",
      "id": "07d97cbb",
      "metadata": {
        "id": "07d97cbb"
      },
      "source": [
        "<details>\n",
        "  <summary><h4><strong>Hint 1</strong></h4></summary>\n",
        "\n",
        "Instantiate StandardScaler to transform the data in a single step.\n",
        "</details>"
      ]
    },
    {
      "cell_type": "markdown",
      "id": "43a0c6f8",
      "metadata": {
        "id": "43a0c6f8"
      },
      "source": [
        "<details>\n",
        "  <summary><h4><strong>Hint 2</strong></h4></summary>\n",
        "\n",
        "Use the `.fit_transform()` method and pass in the data as an argument.\n",
        "</details>"
      ]
    },
    {
      "cell_type": "markdown",
      "id": "47623855",
      "metadata": {
        "id": "47623855"
      },
      "source": [
        "## **Step 3: Data modeling**"
      ]
    },
    {
      "cell_type": "markdown",
      "id": "b83ee59a",
      "metadata": {
        "id": "b83ee59a"
      },
      "source": [
        "Now, fit K-means and evaluate inertia for different values of k. Because you may not know how many clusters exist in the data, start by fitting K-means and examining the inertia values for different values of k. To do this, write a function called `kmeans_inertia` that takes in `num_clusters` and `x_vals` (`X_scaled`) and returns a list of each k-value's inertia.\n",
        "\n",
        "When using K-means inside the function, set the `random_state` to `42`. This way, others can reproduce your results."
      ]
    },
    {
      "cell_type": "code",
      "execution_count": null,
      "id": "990e3b7a",
      "metadata": {
        "id": "990e3b7a"
      },
      "outputs": [],
      "source": [
        "# Fit K-means and evaluate inertia for different values of k.\n",
        "\n",
        "### YOUR CODE HERE ###"
      ]
    },
    {
      "cell_type": "markdown",
      "id": "899a1634",
      "metadata": {
        "id": "899a1634"
      },
      "source": [
        "Use the `kmeans_inertia` function to return a list of inertia for k=2 to 10."
      ]
    },
    {
      "cell_type": "code",
      "execution_count": null,
      "id": "6176b9c5",
      "metadata": {
        "id": "6176b9c5"
      },
      "outputs": [],
      "source": [
        "# Return a list of inertia for k=2 to 10.\n",
        "\n",
        "### YOUR CODE HERE ###"
      ]
    },
    {
      "cell_type": "markdown",
      "id": "d5fbce68",
      "metadata": {
        "id": "d5fbce68"
      },
      "source": [
        "<details>\n",
        "  <summary><h4><strong>Hint 1</strong></h4></summary>\n",
        "\n",
        "Review the material about the `kmeans_inertia` function.\n",
        "</details>"
      ]
    },
    {
      "cell_type": "markdown",
      "id": "6348791b",
      "metadata": {
        "id": "6348791b"
      },
      "source": [
        "Next, create a line plot that shows the relationship between `num_clusters` and `inertia`.\n",
        "Use either seaborn or matplotlib to visualize this relationship."
      ]
    },
    {
      "cell_type": "code",
      "execution_count": null,
      "id": "a63272f1",
      "metadata": {
        "id": "a63272f1"
      },
      "outputs": [],
      "source": [
        "# Create a line plot.\n",
        "\n",
        "### YOUR CODE HERE ###"
      ]
    },
    {
      "cell_type": "markdown",
      "id": "25b10370",
      "metadata": {
        "id": "25b10370"
      },
      "source": [
        "<details>\n",
        "  <summary><h4><strong>Hint 1</strong></h4></summary>\n",
        "\n",
        "Use `sns.lineplot`.\n",
        "</details>"
      ]
    },
    {
      "cell_type": "markdown",
      "id": "b5a1a1db",
      "metadata": {
        "id": "b5a1a1db"
      },
      "source": [
        "<details>\n",
        "  <summary><h4><strong>Hint 2</strong></h4></summary>\n",
        "\n",
        "Include `x=num_clusters` and `y=inertia`.\n",
        "</details>"
      ]
    },
    {
      "cell_type": "markdown",
      "id": "a3729bdb",
      "metadata": {
        "id": "a3729bdb"
      },
      "source": [
        "**Question:** Where is the elbow in the plot?"
      ]
    },
    {
      "cell_type": "markdown",
      "id": "d6b2c922",
      "metadata": {
        "id": "d6b2c922"
      },
      "source": [
        "[Write your response here. Double-click (or enter) to edit.]"
      ]
    },
    {
      "cell_type": "markdown",
      "id": "4c4198f7",
      "metadata": {
        "id": "4c4198f7"
      },
      "source": [
        "## **Step 4: Results and evaluation**"
      ]
    },
    {
      "cell_type": "markdown",
      "id": "4cb235ed",
      "metadata": {
        "id": "4cb235ed"
      },
      "source": [
        "Now, evaluate the silhouette score using the `silhouette_score()` function. Silhouette scores are used to study the distance between clusters."
      ]
    },
    {
      "cell_type": "markdown",
      "id": "1e3da4c3",
      "metadata": {
        "id": "1e3da4c3"
      },
      "source": [
        "Then, compare the silhouette score of each value of k, from 2 through 10. To do this, write a function called `kmeans_sil` that takes in `num_clusters` and `x_vals` (`X_scaled`) and returns a list of each k-value's silhouette score."
      ]
    },
    {
      "cell_type": "code",
      "execution_count": null,
      "id": "97b6eab4",
      "metadata": {
        "id": "97b6eab4"
      },
      "outputs": [],
      "source": [
        "# Evaluate silhouette score.\n",
        "# Write a function to return a list of each k-value's score.\n",
        "\n",
        "### YOUR CODE HERE ###"
      ]
    },
    {
      "cell_type": "markdown",
      "id": "bec614fc",
      "metadata": {
        "id": "bec614fc"
      },
      "source": [
        "<details>\n",
        "  <summary><h4><strong>Hint 1</strong></h4></summary>\n",
        "\n",
        "Review the `kmeans_sil` function video.\n",
        "</details>"
      ]
    },
    {
      "cell_type": "markdown",
      "id": "0029eb06",
      "metadata": {
        "id": "0029eb06"
      },
      "source": [
        "Next, create a line plot that shows the relationship between `num_clusters` and `sil_score`.\n",
        "Use either seaborn or matplotlib to visualize this relationship."
      ]
    },
    {
      "cell_type": "code",
      "execution_count": null,
      "id": "0bab7a12",
      "metadata": {
        "id": "0bab7a12"
      },
      "outputs": [],
      "source": [
        "# Create a line plot.\n",
        "\n",
        "### YOUR CODE HERE ###"
      ]
    },
    {
      "cell_type": "markdown",
      "id": "9108fd84",
      "metadata": {
        "id": "9108fd84"
      },
      "source": [
        "<details>\n",
        "  <summary><h4><strong>Hint 1</strong></h4></summary>\n",
        "\n",
        "Use `sns.lineplot`.\n",
        "</details>"
      ]
    },
    {
      "cell_type": "markdown",
      "id": "2543a652",
      "metadata": {
        "id": "2543a652"
      },
      "source": [
        "<details>\n",
        "  <summary><h4><strong>Hint 2</strong></h4></summary>\n",
        "\n",
        "Include `x=num_clusters` and `y=sil_score`.\n",
        "</details>"
      ]
    },
    {
      "cell_type": "markdown",
      "id": "d333e985",
      "metadata": {
        "id": "d333e985"
      },
      "source": [
        "**Question:** What does the graph show?"
      ]
    },
    {
      "cell_type": "markdown",
      "id": "2ca72f01",
      "metadata": {
        "id": "2ca72f01"
      },
      "source": [
        "[Write your response here. Double-click (or enter) to edit.]"
      ]
    },
    {
      "cell_type": "markdown",
      "id": "42b0a259",
      "metadata": {
        "id": "42b0a259"
      },
      "source": [
        "### Optimal k-value"
      ]
    },
    {
      "cell_type": "markdown",
      "id": "b6729faa",
      "metadata": {
        "id": "b6729faa"
      },
      "source": [
        "To decide on an optimal k-value, fit a six-cluster model to the dataset."
      ]
    },
    {
      "cell_type": "code",
      "execution_count": null,
      "id": "819d556f",
      "metadata": {
        "id": "819d556f"
      },
      "outputs": [],
      "source": [
        "# Fit a 6-cluster model.\n",
        "\n",
        "### YOUR CODE HERE ###"
      ]
    },
    {
      "cell_type": "markdown",
      "id": "762c491c",
      "metadata": {
        "id": "762c491c"
      },
      "source": [
        "<details>\n",
        "  <summary><h4><strong>Hint 1</strong></h4></summary>\n",
        "\n",
        "Make an instance of the model with `num_clusters = 6` and use the `fit` function on `X_scaled`.\n",
        "</details>\n",
        "\n",
        "\n"
      ]
    },
    {
      "cell_type": "markdown",
      "id": "6f4afe26",
      "metadata": {
        "id": "6f4afe26"
      },
      "source": [
        "Print out the unique labels of the fit model."
      ]
    },
    {
      "cell_type": "code",
      "execution_count": null,
      "id": "c0679381",
      "metadata": {
        "id": "c0679381"
      },
      "outputs": [],
      "source": [
        "# Print unique labels.\n",
        "\n",
        "### YOUR CODE HERE ###"
      ]
    },
    {
      "cell_type": "markdown",
      "id": "e69eb4c8",
      "metadata": {
        "id": "e69eb4c8"
      },
      "source": [
        "Now, create a new column `cluster` that indicates cluster assignment in the DataFrame `penguins_subset`. It's important to understand the meaning of each cluster's labels, then decide whether the clustering makes sense.\n",
        "\n",
        "**Note:** This task is done using `penguins_subset` because it is often easier to interpret unscaled data."
      ]
    },
    {
      "cell_type": "code",
      "execution_count": null,
      "id": "05c92460",
      "metadata": {
        "id": "05c92460"
      },
      "outputs": [],
      "source": [
        "# Create a new column `cluster`.\n",
        "\n",
        "### YOUR CODE HERE ###"
      ]
    },
    {
      "cell_type": "markdown",
      "id": "bafb929b",
      "metadata": {
        "id": "bafb929b"
      },
      "source": [
        "Use `groupby` to verify if any `'cluster'` can be differentiated by `'species'`."
      ]
    },
    {
      "cell_type": "code",
      "execution_count": null,
      "id": "7619b546",
      "metadata": {
        "id": "7619b546"
      },
      "outputs": [],
      "source": [
        "# Verify if any `cluster` can be differentiated by `species`.\n",
        "\n",
        "### YOUR CODE HERE ###"
      ]
    },
    {
      "cell_type": "markdown",
      "id": "71d5fb07",
      "metadata": {
        "id": "71d5fb07"
      },
      "source": [
        "<details>\n",
        "  <summary><h4><strong>Hint 1</strong></h4></summary>\n",
        "\n",
        "Use `groupby(by=['cluster', 'species'])`.\n",
        "\n",
        "</details>\n"
      ]
    },
    {
      "cell_type": "markdown",
      "id": "ab5a86ae",
      "metadata": {
        "id": "ab5a86ae"
      },
      "source": [
        "<details>\n",
        "  <summary><h4><strong>Hint 2</strong></h4></summary>\n",
        "\n",
        "\n",
        "Use an aggregation function such as `size`.\n",
        "\n",
        "</details>"
      ]
    },
    {
      "cell_type": "markdown",
      "id": "28c2999f",
      "metadata": {
        "id": "28c2999f"
      },
      "source": [
        "Next, interpret the groupby outputs. Although the results of the groupby show that each `'cluster'` can be differentiated by `'species'`, it is useful to visualize these results. The graph shows that each `'cluster'` can be differentiated by `'species'`.\n",
        "\n",
        "**Note:** The code for the graph below is outside the scope of this lab."
      ]
    },
    {
      "cell_type": "code",
      "execution_count": null,
      "id": "653be569",
      "metadata": {
        "id": "653be569"
      },
      "outputs": [],
      "source": [
        "penguins_subset.groupby(by=['cluster', 'species']).size().plot.bar(title='Clusters differentiated by species',\n",
        "                                                                   figsize=(6, 5),\n",
        "                                                                   ylabel='Size',\n",
        "                                                                   xlabel='(Cluster, Species)');"
      ]
    },
    {
      "cell_type": "markdown",
      "id": "ea5b1345",
      "metadata": {
        "id": "ea5b1345"
      },
      "source": [
        "Use `groupby` to verify if each `'cluster'` can be differentiated by `'species'` AND `'sex_MALE'`."
      ]
    },
    {
      "cell_type": "code",
      "execution_count": null,
      "id": "54721a69",
      "metadata": {
        "id": "54721a69"
      },
      "outputs": [],
      "source": [
        "# Verify if each `cluster` can be differentiated by `species' AND `sex_MALE`.\n",
        "\n",
        "### YOUR CODE HERE ###"
      ]
    },
    {
      "cell_type": "markdown",
      "id": "1d564de4",
      "metadata": {
        "id": "1d564de4"
      },
      "source": [
        "<details>\n",
        "  <summary><h4><strong>Hint 1</strong></h4></summary>\n",
        "\n",
        "Use `groupby(by=['cluster','species', 'sex_MALE'])`.\n",
        "</details>\n"
      ]
    },
    {
      "cell_type": "markdown",
      "id": "4b1c5b44",
      "metadata": {
        "id": "4b1c5b44"
      },
      "source": [
        "<details>\n",
        "  <summary><h4><strong>Hint 2</strong></h4></summary>\n",
        "\n",
        "Use an aggregation function such as `size`.\n",
        "</details>"
      ]
    },
    {
      "cell_type": "markdown",
      "id": "58ff14a4",
      "metadata": {
        "id": "58ff14a4"
      },
      "source": [
        "**Question:** Are the clusters differentiated by `'species'` and `'sex_MALE'`?"
      ]
    },
    {
      "cell_type": "markdown",
      "id": "bf3c8370",
      "metadata": {
        "id": "bf3c8370"
      },
      "source": [
        "[Write your response here. Double-click (or enter) to edit.]"
      ]
    },
    {
      "cell_type": "markdown",
      "id": "cf2274fb",
      "metadata": {
        "id": "cf2274fb"
      },
      "source": [
        "Finally, interpret the groupby outputs and visualize these results. The graph shows that each `'cluster'` can be differentiated by `'species'` and `'sex_MALE'`. Furthermore, each cluster is mostly comprised of one sex and one species.\n",
        "\n",
        "**Note:** The code for the graph below is outside the scope of this lab."
      ]
    },
    {
      "cell_type": "code",
      "execution_count": null,
      "id": "fd85c53a",
      "metadata": {
        "id": "fd85c53a"
      },
      "outputs": [],
      "source": [
        "penguins_subset.groupby(by=['cluster','species','sex_MALE']).size().unstack(level = 'species', fill_value=0).plot.bar(title='Clusters differentiated by species and sex',\n",
        "                                                                                                                      figsize=(6, 5),\n",
        "                                                                                                                      ylabel='Size',\n",
        "                                                                                                                      xlabel='(Cluster, Sex)')\n",
        "plt.legend(bbox_to_anchor=(1.3, 1.0))"
      ]
    },
    {
      "cell_type": "markdown",
      "id": "82607f71",
      "metadata": {
        "id": "82607f71"
      },
      "source": [
        "## **Considerations**\n",
        "\n",
        "\n",
        "**What are some key takeaways that you learned during this lab? Consider the process you used, key tools, and the results of your investigation.**\n",
        "\n",
        "[Write your response here. Double-click (or enter) to edit.]\n",
        "\n",
        "\n",
        "**What summary would you provide to stakeholders?**\n",
        "\n",
        "[Write your response here. Double-click (or enter) to edit.]\n",
        "\n",
        "\n",
        "\n"
      ]
    },
    {
      "cell_type": "markdown",
      "id": "3c984bf1",
      "metadata": {
        "id": "3c984bf1"
      },
      "source": [
        "### References\n",
        "\n",
        "[Gorman, Kristen B., et al. “Ecological Sexual Dimorphism and Environmental Variability within a Community of Antarctic Penguins (Genus Pygoscelis).” PLOS ONE, vol. 9, no. 3, Mar. 2014, p. e90081. PLoS Journals](https://doi.org/10.1371/journal.pone.0090081)\n",
        "\n",
        "[Sklearn Preprocessing StandardScaler scikit-learn](https://scikit-learn.org/stable/modules/generated/sklearn.preprocessing.StandardScaler.html)"
      ]
    },
    {
      "cell_type": "markdown",
      "id": "a8fd42d2",
      "metadata": {
        "id": "a8fd42d2"
      },
      "source": [
        "**Congratulations!** You've completed this lab."
      ]
    },
    {
      "cell_type": "code",
      "execution_count": null,
      "id": "91e076bd-ca95-4091-adc2-fb06cc0554e9",
      "metadata": {
        "id": "91e076bd-ca95-4091-adc2-fb06cc0554e9"
      },
      "outputs": [],
      "source": []
    }
  ],
  "metadata": {
    "colab": {
      "provenance": [],
      "toc_visible": true,
      "include_colab_link": true
    },
    "gpuClass": "standard",
    "kernelspec": {
      "display_name": "Python 3 (ipykernel)",
      "language": "python",
      "name": "python3"
    },
    "language_info": {
      "codemirror_mode": {
        "name": "ipython",
        "version": 3
      },
      "file_extension": ".py",
      "mimetype": "text/x-python",
      "name": "python",
      "nbconvert_exporter": "python",
      "pygments_lexer": "ipython3",
      "version": "3.11.5"
    }
  },
  "nbformat": 4,
  "nbformat_minor": 5
}